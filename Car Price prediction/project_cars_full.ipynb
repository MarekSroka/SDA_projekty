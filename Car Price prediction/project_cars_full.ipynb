{
  "cells": [
    {
      "cell_type": "markdown",
      "metadata": {
        "id": "view-in-github",
        "colab_type": "text"
      },
      "source": [
        "<a href=\"https://colab.research.google.com/github/MarekSroka/SDA_projekty/blob/main/Car%20Price%20prediction/project_cars_full.ipynb\" target=\"_parent\"><img src=\"https://colab.research.google.com/assets/colab-badge.svg\" alt=\"Open In Colab\"/></a>"
      ]
    },
    {
      "cell_type": "code",
      "source": [
        "from google.colab import drive\n",
        "drive.mount('/content/drive')"
      ],
      "metadata": {
        "colab": {
          "base_uri": "https://localhost:8080/"
        },
        "id": "rOXJovc21LTA",
        "outputId": "43098829-e896-4d5b-de68-cab1f38dd590"
      },
      "id": "rOXJovc21LTA",
      "execution_count": null,
      "outputs": [
        {
          "output_type": "stream",
          "name": "stdout",
          "text": [
            "Mounted at /content/drive\n"
          ]
        }
      ]
    },
    {
      "cell_type": "markdown",
      "source": [
        "# Import packages"
      ],
      "metadata": {
        "id": "hA2ZZUvLWDy3"
      },
      "id": "hA2ZZUvLWDy3"
    },
    {
      "cell_type": "code",
      "execution_count": null,
      "metadata": {
        "id": "ewnVttkYFwYQ"
      },
      "outputs": [],
      "source": [
        "import pandas as pd\n",
        "from pandas.plotting import scatter_matrix\n",
        "import numpy as np\n",
        "\n",
        "import matplotlib.pyplot as plt\n",
        "import seaborn as sns\n",
        "\n",
        "import random\n",
        "\n",
        "from sklearn.model_selection import GridSearchCV, train_test_split\n",
        "from sklearn.linear_model import LinearRegression\n",
        "from sklearn.preprocessing import OrdinalEncoder\n",
        "from sklearn.preprocessing import StandardScaler\n",
        "from sklearn.tree import DecisionTreeRegressor\n",
        "from sklearn.metrics import mean_squared_error\n",
        "\n",
        "from sklearn.pipeline import make_pipeline\n",
        "from sklearn.pipeline import Pipeline\n",
        "from sklearn.compose import ColumnTransformer\n",
        "from sklearn.preprocessing import OneHotEncoder\n",
        "from sklearn.preprocessing import PowerTransformer"
      ],
      "id": "ewnVttkYFwYQ"
    },
    {
      "cell_type": "markdown",
      "source": [
        "# Project description"
      ],
      "metadata": {
        "id": "aVyPBYY2WIBa"
      },
      "id": "aVyPBYY2WIBa"
    },
    {
      "cell_type": "markdown",
      "source": [
        "The main objective of the project is **to predict the car price** so it's the machine learning regression problem.\n",
        "\n",
        "Starter dataset contains the following features:\n",
        "\n",
        "-Price (target variable)\n",
        "\n",
        "-Levy -  tax (levy)\n",
        "\n",
        "-Manufacturer - producer\n",
        "\n",
        "-Model - model\n",
        "\n",
        "-Prod. year - year of production\n",
        "\n",
        "-Category - type of vehicle\n",
        "\n",
        "-Leather interior \n",
        "\n",
        "-Fuel type \n",
        "\n",
        "-Engine volume\n",
        "\n",
        "-Mileage\n",
        "\n",
        "-Cylinders\n",
        "\n",
        "-Gear box type\n",
        "\n",
        "-Drive wheels\n",
        "\n",
        "-Doors \n",
        "\n",
        "-Color \n",
        "\n",
        "-Airbags"
      ],
      "metadata": {
        "id": "7cfQ8rv8WIpZ"
      },
      "id": "7cfQ8rv8WIpZ"
    },
    {
      "cell_type": "markdown",
      "source": [
        "# EDA, data cleaning and visualization"
      ],
      "metadata": {
        "id": "yoKwXLHJWiQx"
      },
      "id": "yoKwXLHJWiQx"
    },
    {
      "cell_type": "markdown",
      "metadata": {
        "id": "Nh2Zea95FwYV"
      },
      "source": [
        "In this project target is variable $\\it{Price}$.\n",
        "Result of data cleaning and transformations will be stored in cars_mod data frame for safety and separation from the original data."
      ],
      "id": "Nh2Zea95FwYV"
    },
    {
      "cell_type": "code",
      "execution_count": null,
      "metadata": {
        "id": "62-jAVQKFwYX"
      },
      "outputs": [],
      "source": [
        "cars_org=pd.read_csv('drive/MyDrive/ML_uczenie_nadzorowane_regresja/car_price.csv')\n",
        "cars_org.reset_index(inplace=True)\n",
        "cars_mod=pd.DataFrame()"
      ],
      "id": "62-jAVQKFwYX"
    },
    {
      "cell_type": "markdown",
      "source": [
        "First, we drop duplicates from the entire dataset"
      ],
      "metadata": {
        "id": "LH5t5ojwWU-l"
      },
      "id": "LH5t5ojwWU-l"
    },
    {
      "cell_type": "code",
      "execution_count": null,
      "metadata": {
        "scrolled": true,
        "id": "C-VzUwTaFwYY",
        "colab": {
          "base_uri": "https://localhost:8080/"
        },
        "outputId": "fc8ac831-ad8a-42c9-dc43-99926c4c24a5"
      },
      "outputs": [
        {
          "output_type": "stream",
          "name": "stdout",
          "text": [
            "   index        ID  Price  Levy  ...   Doors             Wheel   Color Airbags\n",
            "0      0  45654403  13328  1399  ...  04-May        Left wheel  Silver      12\n",
            "1      1  44731507  16621  1018  ...  04-May        Left wheel   Black       8\n",
            "2      2  45774419   8467     -  ...  04-May  Right-hand drive   Black       2\n",
            "\n",
            "[3 rows x 19 columns]\n"
          ]
        },
        {
          "output_type": "execute_result",
          "data": {
            "text/plain": [
              "index                     16983\n",
              "ID                     45812886\n",
              "Price                  26307500\n",
              "Levy                          -\n",
              "Manufacturer               OPEL\n",
              "Model                     Combo\n",
              "Prod. year                 1999\n",
              "Category            Goods wagon\n",
              "Leather interior             No\n",
              "Fuel type                Diesel\n",
              "Engine volume               1.7\n",
              "Mileage                99999 km\n",
              "Cylinders                   4.0\n",
              "Gear box type            Manual\n",
              "Drive wheels              Front\n",
              "Doors                    02-Mar\n",
              "Wheel                Left wheel\n",
              "Color                      Blue\n",
              "Airbags                       0\n",
              "Name: 16983, dtype: object"
            ]
          },
          "metadata": {},
          "execution_count": 4
        }
      ],
      "source": [
        "cars_org.drop_duplicates(inplace=True)\n",
        "print(cars_org.head(3))\n",
        "cars_org.iloc[16983,:]"
      ],
      "id": "C-VzUwTaFwYY"
    },
    {
      "cell_type": "markdown",
      "metadata": {
        "id": "q0Z-aiUdFwYa"
      },
      "source": [
        "ID Column doesn't have relevant impact on prediction accuracy, so it can be dropped"
      ],
      "id": "q0Z-aiUdFwYa"
    },
    {
      "cell_type": "code",
      "execution_count": null,
      "metadata": {
        "id": "tmdYSj_4FwYa"
      },
      "outputs": [],
      "source": [
        "cars_org.drop(['ID'], axis=1, inplace=True)"
      ],
      "id": "tmdYSj_4FwYa"
    },
    {
      "cell_type": "markdown",
      "metadata": {
        "id": "oDp5XUFgFwYb"
      },
      "source": [
        "Replacing outliers by the average price of same cars year older and year younger."
      ],
      "id": "oDp5XUFgFwYb"
    },
    {
      "cell_type": "code",
      "execution_count": null,
      "metadata": {
        "id": "-ef97OAfFwYc"
      },
      "outputs": [],
      "source": [
        "a=cars_org['Price'].loc[(cars_org['Manufacturer']=='OPEL')&(cars_org['Model']=='Combo')&(cars_org['Prod. year']==1998)]\n",
        "b=cars_org['Price'].loc[(cars_org['Manufacturer']=='OPEL')&(cars_org['Model']=='Combo')&(cars_org['Prod. year']==2000)]\n",
        "c=(a.iloc[0]+b.iloc[0])/2\n",
        "z=cars_org.loc[(cars_org['Manufacturer']=='OPEL')&(cars_org['Model']=='Combo')&(cars_org['Prod. year']==1999)].index[0]\n",
        "cars_org.iloc[z,1]=c"
      ],
      "id": "-ef97OAfFwYc"
    },
    {
      "cell_type": "code",
      "execution_count": null,
      "metadata": {
        "id": "qzL1jeerFwYd",
        "colab": {
          "base_uri": "https://localhost:8080/",
          "height": 159
        },
        "outputId": "9957e656-7bfd-428c-ee2d-4aa79cd3e4c1"
      },
      "outputs": [
        {
          "output_type": "execute_result",
          "data": {
            "text/html": [
              "\n",
              "  <div id=\"df-d1536f00-5bfc-4b46-8a49-acc42414d1a7\">\n",
              "    <div class=\"colab-df-container\">\n",
              "      <div>\n",
              "<style scoped>\n",
              "    .dataframe tbody tr th:only-of-type {\n",
              "        vertical-align: middle;\n",
              "    }\n",
              "\n",
              "    .dataframe tbody tr th {\n",
              "        vertical-align: top;\n",
              "    }\n",
              "\n",
              "    .dataframe thead th {\n",
              "        text-align: right;\n",
              "    }\n",
              "</style>\n",
              "<table border=\"1\" class=\"dataframe\">\n",
              "  <thead>\n",
              "    <tr style=\"text-align: right;\">\n",
              "      <th></th>\n",
              "      <th>index</th>\n",
              "      <th>Price</th>\n",
              "      <th>Levy</th>\n",
              "      <th>Manufacturer</th>\n",
              "      <th>Model</th>\n",
              "      <th>Prod. year</th>\n",
              "      <th>Category</th>\n",
              "      <th>Leather interior</th>\n",
              "      <th>Fuel type</th>\n",
              "      <th>Engine volume</th>\n",
              "      <th>Mileage</th>\n",
              "      <th>Cylinders</th>\n",
              "      <th>Gear box type</th>\n",
              "      <th>Drive wheels</th>\n",
              "      <th>Doors</th>\n",
              "      <th>Wheel</th>\n",
              "      <th>Color</th>\n",
              "      <th>Airbags</th>\n",
              "    </tr>\n",
              "  </thead>\n",
              "  <tbody>\n",
              "    <tr>\n",
              "      <th>16983</th>\n",
              "      <td>16983</td>\n",
              "      <td>5636</td>\n",
              "      <td>-</td>\n",
              "      <td>OPEL</td>\n",
              "      <td>Combo</td>\n",
              "      <td>1999</td>\n",
              "      <td>Goods wagon</td>\n",
              "      <td>No</td>\n",
              "      <td>Diesel</td>\n",
              "      <td>1.7</td>\n",
              "      <td>99999 km</td>\n",
              "      <td>4.0</td>\n",
              "      <td>Manual</td>\n",
              "      <td>Front</td>\n",
              "      <td>02-Mar</td>\n",
              "      <td>Left wheel</td>\n",
              "      <td>Blue</td>\n",
              "      <td>0</td>\n",
              "    </tr>\n",
              "  </tbody>\n",
              "</table>\n",
              "</div>\n",
              "      <button class=\"colab-df-convert\" onclick=\"convertToInteractive('df-d1536f00-5bfc-4b46-8a49-acc42414d1a7')\"\n",
              "              title=\"Convert this dataframe to an interactive table.\"\n",
              "              style=\"display:none;\">\n",
              "        \n",
              "  <svg xmlns=\"http://www.w3.org/2000/svg\" height=\"24px\"viewBox=\"0 0 24 24\"\n",
              "       width=\"24px\">\n",
              "    <path d=\"M0 0h24v24H0V0z\" fill=\"none\"/>\n",
              "    <path d=\"M18.56 5.44l.94 2.06.94-2.06 2.06-.94-2.06-.94-.94-2.06-.94 2.06-2.06.94zm-11 1L8.5 8.5l.94-2.06 2.06-.94-2.06-.94L8.5 2.5l-.94 2.06-2.06.94zm10 10l.94 2.06.94-2.06 2.06-.94-2.06-.94-.94-2.06-.94 2.06-2.06.94z\"/><path d=\"M17.41 7.96l-1.37-1.37c-.4-.4-.92-.59-1.43-.59-.52 0-1.04.2-1.43.59L10.3 9.45l-7.72 7.72c-.78.78-.78 2.05 0 2.83L4 21.41c.39.39.9.59 1.41.59.51 0 1.02-.2 1.41-.59l7.78-7.78 2.81-2.81c.8-.78.8-2.07 0-2.86zM5.41 20L4 18.59l7.72-7.72 1.47 1.35L5.41 20z\"/>\n",
              "  </svg>\n",
              "      </button>\n",
              "      \n",
              "  <style>\n",
              "    .colab-df-container {\n",
              "      display:flex;\n",
              "      flex-wrap:wrap;\n",
              "      gap: 12px;\n",
              "    }\n",
              "\n",
              "    .colab-df-convert {\n",
              "      background-color: #E8F0FE;\n",
              "      border: none;\n",
              "      border-radius: 50%;\n",
              "      cursor: pointer;\n",
              "      display: none;\n",
              "      fill: #1967D2;\n",
              "      height: 32px;\n",
              "      padding: 0 0 0 0;\n",
              "      width: 32px;\n",
              "    }\n",
              "\n",
              "    .colab-df-convert:hover {\n",
              "      background-color: #E2EBFA;\n",
              "      box-shadow: 0px 1px 2px rgba(60, 64, 67, 0.3), 0px 1px 3px 1px rgba(60, 64, 67, 0.15);\n",
              "      fill: #174EA6;\n",
              "    }\n",
              "\n",
              "    [theme=dark] .colab-df-convert {\n",
              "      background-color: #3B4455;\n",
              "      fill: #D2E3FC;\n",
              "    }\n",
              "\n",
              "    [theme=dark] .colab-df-convert:hover {\n",
              "      background-color: #434B5C;\n",
              "      box-shadow: 0px 1px 3px 1px rgba(0, 0, 0, 0.15);\n",
              "      filter: drop-shadow(0px 1px 2px rgba(0, 0, 0, 0.3));\n",
              "      fill: #FFFFFF;\n",
              "    }\n",
              "  </style>\n",
              "\n",
              "      <script>\n",
              "        const buttonEl =\n",
              "          document.querySelector('#df-d1536f00-5bfc-4b46-8a49-acc42414d1a7 button.colab-df-convert');\n",
              "        buttonEl.style.display =\n",
              "          google.colab.kernel.accessAllowed ? 'block' : 'none';\n",
              "\n",
              "        async function convertToInteractive(key) {\n",
              "          const element = document.querySelector('#df-d1536f00-5bfc-4b46-8a49-acc42414d1a7');\n",
              "          const dataTable =\n",
              "            await google.colab.kernel.invokeFunction('convertToInteractive',\n",
              "                                                     [key], {});\n",
              "          if (!dataTable) return;\n",
              "\n",
              "          const docLinkHtml = 'Like what you see? Visit the ' +\n",
              "            '<a target=\"_blank\" href=https://colab.research.google.com/notebooks/data_table.ipynb>data table notebook</a>'\n",
              "            + ' to learn more about interactive tables.';\n",
              "          element.innerHTML = '';\n",
              "          dataTable['output_type'] = 'display_data';\n",
              "          await google.colab.output.renderOutput(dataTable, element);\n",
              "          const docLink = document.createElement('div');\n",
              "          docLink.innerHTML = docLinkHtml;\n",
              "          element.appendChild(docLink);\n",
              "        }\n",
              "      </script>\n",
              "    </div>\n",
              "  </div>\n",
              "  "
            ],
            "text/plain": [
              "       index  Price Levy Manufacturer  ...   Doors       Wheel Color Airbags\n",
              "16983  16983   5636    -         OPEL  ...  02-Mar  Left wheel  Blue       0\n",
              "\n",
              "[1 rows x 18 columns]"
            ]
          },
          "metadata": {},
          "execution_count": 7
        }
      ],
      "source": [
        "cars_org.loc[(cars_org['Manufacturer']=='OPEL')&(cars_org['Model']=='Combo')&(cars_org['Prod. year']==1999)]"
      ],
      "id": "qzL1jeerFwYd"
    },
    {
      "cell_type": "markdown",
      "metadata": {
        "id": "yGcyZ3AoFwYe"
      },
      "source": [
        "Due to reducing the number of outliers I've decided to reduce the age of cars to 40 yrs.\n",
        "This is in line with domain - specific knowledge. Old cars are used be valued based on specialist inspection and number of sold/bought oldtimers are to small to put them together in the same mechanism of car pricing like popular younger cars."
      ],
      "id": "yGcyZ3AoFwYe"
    },
    {
      "cell_type": "code",
      "execution_count": null,
      "metadata": {
        "id": "6eTL6RvMFwYf"
      },
      "outputs": [],
      "source": [
        "cars_org.loc[cars_org['Prod. year']<1982].count()\n",
        "cars_org = cars_org.loc[cars_org['Prod. year']>=1982, :]"
      ],
      "id": "6eTL6RvMFwYf"
    },
    {
      "cell_type": "markdown",
      "metadata": {
        "id": "yQ2pIKO8FwYf"
      },
      "source": [
        "For similar reasons luxury cars can be excluded from data frame - limit 200.000$\\$$"
      ],
      "id": "yQ2pIKO8FwYf"
    },
    {
      "cell_type": "code",
      "execution_count": null,
      "metadata": {
        "id": "4z1BdjPVFwYg",
        "colab": {
          "base_uri": "https://localhost:8080/",
          "height": 695
        },
        "outputId": "6cfc0d61-0140-4b3e-94dc-0172ce821b76"
      },
      "outputs": [
        {
          "output_type": "execute_result",
          "data": {
            "text/html": [
              "\n",
              "  <div id=\"df-070a267f-312e-46c0-8028-098cc9e87b95\">\n",
              "    <div class=\"colab-df-container\">\n",
              "      <div>\n",
              "<style scoped>\n",
              "    .dataframe tbody tr th:only-of-type {\n",
              "        vertical-align: middle;\n",
              "    }\n",
              "\n",
              "    .dataframe tbody tr th {\n",
              "        vertical-align: top;\n",
              "    }\n",
              "\n",
              "    .dataframe thead th {\n",
              "        text-align: right;\n",
              "    }\n",
              "</style>\n",
              "<table border=\"1\" class=\"dataframe\">\n",
              "  <thead>\n",
              "    <tr style=\"text-align: right;\">\n",
              "      <th></th>\n",
              "      <th>index</th>\n",
              "      <th>Price</th>\n",
              "      <th>Levy</th>\n",
              "      <th>Manufacturer</th>\n",
              "      <th>Model</th>\n",
              "      <th>Prod. year</th>\n",
              "      <th>Category</th>\n",
              "      <th>Leather interior</th>\n",
              "      <th>Fuel type</th>\n",
              "      <th>Engine volume</th>\n",
              "      <th>Mileage</th>\n",
              "      <th>Cylinders</th>\n",
              "      <th>Gear box type</th>\n",
              "      <th>Drive wheels</th>\n",
              "      <th>Doors</th>\n",
              "      <th>Wheel</th>\n",
              "      <th>Color</th>\n",
              "      <th>Airbags</th>\n",
              "    </tr>\n",
              "  </thead>\n",
              "  <tbody>\n",
              "    <tr>\n",
              "      <th>1225</th>\n",
              "      <td>1225</td>\n",
              "      <td>627220</td>\n",
              "      <td>-</td>\n",
              "      <td>MERCEDES-BENZ</td>\n",
              "      <td>G 65 AMG 63AMG</td>\n",
              "      <td>2020</td>\n",
              "      <td>Jeep</td>\n",
              "      <td>Yes</td>\n",
              "      <td>Petrol</td>\n",
              "      <td>6.3 Turbo</td>\n",
              "      <td>0 km</td>\n",
              "      <td>8.0</td>\n",
              "      <td>Tiptronic</td>\n",
              "      <td>4x4</td>\n",
              "      <td>04-May</td>\n",
              "      <td>Left wheel</td>\n",
              "      <td>Black</td>\n",
              "      <td>12</td>\n",
              "    </tr>\n",
              "    <tr>\n",
              "      <th>2283</th>\n",
              "      <td>2283</td>\n",
              "      <td>219527</td>\n",
              "      <td>-</td>\n",
              "      <td>BENTLEY</td>\n",
              "      <td>Continental GT</td>\n",
              "      <td>2012</td>\n",
              "      <td>Coupe</td>\n",
              "      <td>Yes</td>\n",
              "      <td>Petrol</td>\n",
              "      <td>4.0 Turbo</td>\n",
              "      <td>55500 km</td>\n",
              "      <td>8.0</td>\n",
              "      <td>Tiptronic</td>\n",
              "      <td>4x4</td>\n",
              "      <td>02-Mar</td>\n",
              "      <td>Left wheel</td>\n",
              "      <td>Black</td>\n",
              "      <td>0</td>\n",
              "    </tr>\n",
              "    <tr>\n",
              "      <th>5008</th>\n",
              "      <td>5008</td>\n",
              "      <td>308906</td>\n",
              "      <td>1694</td>\n",
              "      <td>PORSCHE</td>\n",
              "      <td>911</td>\n",
              "      <td>2016</td>\n",
              "      <td>Coupe</td>\n",
              "      <td>Yes</td>\n",
              "      <td>Petrol</td>\n",
              "      <td>4</td>\n",
              "      <td>8690 km</td>\n",
              "      <td>6.0</td>\n",
              "      <td>Automatic</td>\n",
              "      <td>Rear</td>\n",
              "      <td>02-Mar</td>\n",
              "      <td>Left wheel</td>\n",
              "      <td>Black</td>\n",
              "      <td>12</td>\n",
              "    </tr>\n",
              "    <tr>\n",
              "      <th>5840</th>\n",
              "      <td>5840</td>\n",
              "      <td>254024</td>\n",
              "      <td>1292</td>\n",
              "      <td>MERCEDES-BENZ</td>\n",
              "      <td>GLE 400 A M G</td>\n",
              "      <td>2016</td>\n",
              "      <td>Jeep</td>\n",
              "      <td>Yes</td>\n",
              "      <td>Petrol</td>\n",
              "      <td>3.0 Turbo</td>\n",
              "      <td>73000 km</td>\n",
              "      <td>6.0</td>\n",
              "      <td>Tiptronic</td>\n",
              "      <td>4x4</td>\n",
              "      <td>04-May</td>\n",
              "      <td>Left wheel</td>\n",
              "      <td>Black</td>\n",
              "      <td>12</td>\n",
              "    </tr>\n",
              "    <tr>\n",
              "      <th>7283</th>\n",
              "      <td>7283</td>\n",
              "      <td>228935</td>\n",
              "      <td>-</td>\n",
              "      <td>MERCEDES-BENZ</td>\n",
              "      <td>GLE 63 AMG</td>\n",
              "      <td>2018</td>\n",
              "      <td>Jeep</td>\n",
              "      <td>Yes</td>\n",
              "      <td>Petrol</td>\n",
              "      <td>5.5 Turbo</td>\n",
              "      <td>23000 km</td>\n",
              "      <td>8.0</td>\n",
              "      <td>Tiptronic</td>\n",
              "      <td>4x4</td>\n",
              "      <td>04-May</td>\n",
              "      <td>Left wheel</td>\n",
              "      <td>Black</td>\n",
              "      <td>16</td>\n",
              "    </tr>\n",
              "    <tr>\n",
              "      <th>7353</th>\n",
              "      <td>7353</td>\n",
              "      <td>216391</td>\n",
              "      <td>-</td>\n",
              "      <td>MERCEDES-BENZ</td>\n",
              "      <td>G 65 AMG G63 AMG</td>\n",
              "      <td>2013</td>\n",
              "      <td>Jeep</td>\n",
              "      <td>Yes</td>\n",
              "      <td>Petrol</td>\n",
              "      <td>5.5 Turbo</td>\n",
              "      <td>54000 km</td>\n",
              "      <td>8.0</td>\n",
              "      <td>Tiptronic</td>\n",
              "      <td>4x4</td>\n",
              "      <td>04-May</td>\n",
              "      <td>Left wheel</td>\n",
              "      <td>Black</td>\n",
              "      <td>12</td>\n",
              "    </tr>\n",
              "    <tr>\n",
              "      <th>7749</th>\n",
              "      <td>7749</td>\n",
              "      <td>288521</td>\n",
              "      <td>2269</td>\n",
              "      <td>BMW</td>\n",
              "      <td>M5 Машина в максимально</td>\n",
              "      <td>2018</td>\n",
              "      <td>Sedan</td>\n",
              "      <td>Yes</td>\n",
              "      <td>Petrol</td>\n",
              "      <td>4.4</td>\n",
              "      <td>13500 km</td>\n",
              "      <td>8.0</td>\n",
              "      <td>Tiptronic</td>\n",
              "      <td>4x4</td>\n",
              "      <td>04-May</td>\n",
              "      <td>Left wheel</td>\n",
              "      <td>Black</td>\n",
              "      <td>0</td>\n",
              "    </tr>\n",
              "    <tr>\n",
              "      <th>8541</th>\n",
              "      <td>8541</td>\n",
              "      <td>872946</td>\n",
              "      <td>2067</td>\n",
              "      <td>LAMBORGHINI</td>\n",
              "      <td>Urus</td>\n",
              "      <td>2019</td>\n",
              "      <td>Universal</td>\n",
              "      <td>Yes</td>\n",
              "      <td>Petrol</td>\n",
              "      <td>4</td>\n",
              "      <td>2531 km</td>\n",
              "      <td>8.0</td>\n",
              "      <td>Tiptronic</td>\n",
              "      <td>4x4</td>\n",
              "      <td>04-May</td>\n",
              "      <td>Left wheel</td>\n",
              "      <td>Black</td>\n",
              "      <td>0</td>\n",
              "    </tr>\n",
              "    <tr>\n",
              "      <th>9367</th>\n",
              "      <td>9367</td>\n",
              "      <td>297930</td>\n",
              "      <td>-</td>\n",
              "      <td>MERCEDES-BENZ</td>\n",
              "      <td>AMG GT S</td>\n",
              "      <td>2015</td>\n",
              "      <td>Coupe</td>\n",
              "      <td>Yes</td>\n",
              "      <td>Petrol</td>\n",
              "      <td>4.0 Turbo</td>\n",
              "      <td>20000 km</td>\n",
              "      <td>8.0</td>\n",
              "      <td>Tiptronic</td>\n",
              "      <td>Rear</td>\n",
              "      <td>02-Mar</td>\n",
              "      <td>Left wheel</td>\n",
              "      <td>White</td>\n",
              "      <td>16</td>\n",
              "    </tr>\n",
              "    <tr>\n",
              "      <th>10759</th>\n",
              "      <td>10759</td>\n",
              "      <td>260296</td>\n",
              "      <td>-</td>\n",
              "      <td>LEXUS</td>\n",
              "      <td>LX 570</td>\n",
              "      <td>2018</td>\n",
              "      <td>Jeep</td>\n",
              "      <td>Yes</td>\n",
              "      <td>Petrol</td>\n",
              "      <td>5.7 Turbo</td>\n",
              "      <td>17700 km</td>\n",
              "      <td>8.0</td>\n",
              "      <td>Tiptronic</td>\n",
              "      <td>4x4</td>\n",
              "      <td>04-May</td>\n",
              "      <td>Left wheel</td>\n",
              "      <td>Black</td>\n",
              "      <td>10</td>\n",
              "    </tr>\n",
              "    <tr>\n",
              "      <th>14839</th>\n",
              "      <td>14839</td>\n",
              "      <td>297930</td>\n",
              "      <td>-</td>\n",
              "      <td>LAND ROVER</td>\n",
              "      <td>Range Rover Vogue</td>\n",
              "      <td>2019</td>\n",
              "      <td>Jeep</td>\n",
              "      <td>Yes</td>\n",
              "      <td>Diesel</td>\n",
              "      <td>3.0 Turbo</td>\n",
              "      <td>4500 km</td>\n",
              "      <td>8.0</td>\n",
              "      <td>Tiptronic</td>\n",
              "      <td>4x4</td>\n",
              "      <td>04-May</td>\n",
              "      <td>Left wheel</td>\n",
              "      <td>Black</td>\n",
              "      <td>12</td>\n",
              "    </tr>\n",
              "    <tr>\n",
              "      <th>15283</th>\n",
              "      <td>15283</td>\n",
              "      <td>250574</td>\n",
              "      <td>1481</td>\n",
              "      <td>MERCEDES-BENZ</td>\n",
              "      <td>GLE 400</td>\n",
              "      <td>2017</td>\n",
              "      <td>Jeep</td>\n",
              "      <td>Yes</td>\n",
              "      <td>Petrol</td>\n",
              "      <td>3.0 Turbo</td>\n",
              "      <td>81600 km</td>\n",
              "      <td>6.0</td>\n",
              "      <td>Tiptronic</td>\n",
              "      <td>4x4</td>\n",
              "      <td>04-May</td>\n",
              "      <td>Left wheel</td>\n",
              "      <td>Black</td>\n",
              "      <td>12</td>\n",
              "    </tr>\n",
              "  </tbody>\n",
              "</table>\n",
              "</div>\n",
              "      <button class=\"colab-df-convert\" onclick=\"convertToInteractive('df-070a267f-312e-46c0-8028-098cc9e87b95')\"\n",
              "              title=\"Convert this dataframe to an interactive table.\"\n",
              "              style=\"display:none;\">\n",
              "        \n",
              "  <svg xmlns=\"http://www.w3.org/2000/svg\" height=\"24px\"viewBox=\"0 0 24 24\"\n",
              "       width=\"24px\">\n",
              "    <path d=\"M0 0h24v24H0V0z\" fill=\"none\"/>\n",
              "    <path d=\"M18.56 5.44l.94 2.06.94-2.06 2.06-.94-2.06-.94-.94-2.06-.94 2.06-2.06.94zm-11 1L8.5 8.5l.94-2.06 2.06-.94-2.06-.94L8.5 2.5l-.94 2.06-2.06.94zm10 10l.94 2.06.94-2.06 2.06-.94-2.06-.94-.94-2.06-.94 2.06-2.06.94z\"/><path d=\"M17.41 7.96l-1.37-1.37c-.4-.4-.92-.59-1.43-.59-.52 0-1.04.2-1.43.59L10.3 9.45l-7.72 7.72c-.78.78-.78 2.05 0 2.83L4 21.41c.39.39.9.59 1.41.59.51 0 1.02-.2 1.41-.59l7.78-7.78 2.81-2.81c.8-.78.8-2.07 0-2.86zM5.41 20L4 18.59l7.72-7.72 1.47 1.35L5.41 20z\"/>\n",
              "  </svg>\n",
              "      </button>\n",
              "      \n",
              "  <style>\n",
              "    .colab-df-container {\n",
              "      display:flex;\n",
              "      flex-wrap:wrap;\n",
              "      gap: 12px;\n",
              "    }\n",
              "\n",
              "    .colab-df-convert {\n",
              "      background-color: #E8F0FE;\n",
              "      border: none;\n",
              "      border-radius: 50%;\n",
              "      cursor: pointer;\n",
              "      display: none;\n",
              "      fill: #1967D2;\n",
              "      height: 32px;\n",
              "      padding: 0 0 0 0;\n",
              "      width: 32px;\n",
              "    }\n",
              "\n",
              "    .colab-df-convert:hover {\n",
              "      background-color: #E2EBFA;\n",
              "      box-shadow: 0px 1px 2px rgba(60, 64, 67, 0.3), 0px 1px 3px 1px rgba(60, 64, 67, 0.15);\n",
              "      fill: #174EA6;\n",
              "    }\n",
              "\n",
              "    [theme=dark] .colab-df-convert {\n",
              "      background-color: #3B4455;\n",
              "      fill: #D2E3FC;\n",
              "    }\n",
              "\n",
              "    [theme=dark] .colab-df-convert:hover {\n",
              "      background-color: #434B5C;\n",
              "      box-shadow: 0px 1px 3px 1px rgba(0, 0, 0, 0.15);\n",
              "      filter: drop-shadow(0px 1px 2px rgba(0, 0, 0, 0.3));\n",
              "      fill: #FFFFFF;\n",
              "    }\n",
              "  </style>\n",
              "\n",
              "      <script>\n",
              "        const buttonEl =\n",
              "          document.querySelector('#df-070a267f-312e-46c0-8028-098cc9e87b95 button.colab-df-convert');\n",
              "        buttonEl.style.display =\n",
              "          google.colab.kernel.accessAllowed ? 'block' : 'none';\n",
              "\n",
              "        async function convertToInteractive(key) {\n",
              "          const element = document.querySelector('#df-070a267f-312e-46c0-8028-098cc9e87b95');\n",
              "          const dataTable =\n",
              "            await google.colab.kernel.invokeFunction('convertToInteractive',\n",
              "                                                     [key], {});\n",
              "          if (!dataTable) return;\n",
              "\n",
              "          const docLinkHtml = 'Like what you see? Visit the ' +\n",
              "            '<a target=\"_blank\" href=https://colab.research.google.com/notebooks/data_table.ipynb>data table notebook</a>'\n",
              "            + ' to learn more about interactive tables.';\n",
              "          element.innerHTML = '';\n",
              "          dataTable['output_type'] = 'display_data';\n",
              "          await google.colab.output.renderOutput(dataTable, element);\n",
              "          const docLink = document.createElement('div');\n",
              "          docLink.innerHTML = docLinkHtml;\n",
              "          element.appendChild(docLink);\n",
              "        }\n",
              "      </script>\n",
              "    </div>\n",
              "  </div>\n",
              "  "
            ],
            "text/plain": [
              "       index   Price  Levy   Manufacturer  ...   Doors       Wheel  Color Airbags\n",
              "1225    1225  627220     -  MERCEDES-BENZ  ...  04-May  Left wheel  Black      12\n",
              "2283    2283  219527     -        BENTLEY  ...  02-Mar  Left wheel  Black       0\n",
              "5008    5008  308906  1694        PORSCHE  ...  02-Mar  Left wheel  Black      12\n",
              "5840    5840  254024  1292  MERCEDES-BENZ  ...  04-May  Left wheel  Black      12\n",
              "7283    7283  228935     -  MERCEDES-BENZ  ...  04-May  Left wheel  Black      16\n",
              "7353    7353  216391     -  MERCEDES-BENZ  ...  04-May  Left wheel  Black      12\n",
              "7749    7749  288521  2269            BMW  ...  04-May  Left wheel  Black       0\n",
              "8541    8541  872946  2067    LAMBORGHINI  ...  04-May  Left wheel  Black       0\n",
              "9367    9367  297930     -  MERCEDES-BENZ  ...  02-Mar  Left wheel  White      16\n",
              "10759  10759  260296     -          LEXUS  ...  04-May  Left wheel  Black      10\n",
              "14839  14839  297930     -     LAND ROVER  ...  04-May  Left wheel  Black      12\n",
              "15283  15283  250574  1481  MERCEDES-BENZ  ...  04-May  Left wheel  Black      12\n",
              "\n",
              "[12 rows x 18 columns]"
            ]
          },
          "metadata": {},
          "execution_count": 9
        }
      ],
      "source": [
        "cars_org.loc[cars_org['Price']>200000,:]"
      ],
      "id": "4z1BdjPVFwYg"
    },
    {
      "cell_type": "code",
      "execution_count": null,
      "metadata": {
        "id": "AvAUdmqAFwYg"
      },
      "outputs": [],
      "source": [
        "cars_org=cars_org.loc[cars_org['Price']<200000,:]"
      ],
      "id": "AvAUdmqAFwYg"
    },
    {
      "cell_type": "code",
      "execution_count": null,
      "metadata": {
        "id": "_boBWrRZFwYh",
        "colab": {
          "base_uri": "https://localhost:8080/"
        },
        "outputId": "fd481c25-c44f-4d7b-e054-0131bbdeeb1f"
      },
      "outputs": [
        {
          "output_type": "stream",
          "name": "stdout",
          "text": [
            "<class 'pandas.core.frame.DataFrame'>\n",
            "Int64Index: 19199 entries, 0 to 19236\n",
            "Data columns (total 18 columns):\n",
            " #   Column            Non-Null Count  Dtype  \n",
            "---  ------            --------------  -----  \n",
            " 0   index             19199 non-null  int64  \n",
            " 1   Price             19199 non-null  int64  \n",
            " 2   Levy              19199 non-null  object \n",
            " 3   Manufacturer      19199 non-null  object \n",
            " 4   Model             19199 non-null  object \n",
            " 5   Prod. year        19199 non-null  int64  \n",
            " 6   Category          19199 non-null  object \n",
            " 7   Leather interior  19199 non-null  object \n",
            " 8   Fuel type         19199 non-null  object \n",
            " 9   Engine volume     19199 non-null  object \n",
            " 10  Mileage           19199 non-null  object \n",
            " 11  Cylinders         19199 non-null  float64\n",
            " 12  Gear box type     19199 non-null  object \n",
            " 13  Drive wheels      19199 non-null  object \n",
            " 14  Doors             19199 non-null  object \n",
            " 15  Wheel             19199 non-null  object \n",
            " 16  Color             19199 non-null  object \n",
            " 17  Airbags           19199 non-null  int64  \n",
            "dtypes: float64(1), int64(4), object(13)\n",
            "memory usage: 2.8+ MB\n"
          ]
        }
      ],
      "source": [
        "cars_org.info()"
      ],
      "id": "_boBWrRZFwYh"
    },
    {
      "cell_type": "markdown",
      "metadata": {
        "id": "xHI_ZyxhFwYh"
      },
      "source": [
        "In data set, there are a few columns that should be numerical but they are objects."
      ],
      "id": "xHI_ZyxhFwYh"
    },
    {
      "cell_type": "code",
      "execution_count": null,
      "metadata": {
        "id": "0dSC5-HbFwYi"
      },
      "outputs": [],
      "source": [
        "yr=2022 #actual year"
      ],
      "id": "0dSC5-HbFwYi"
    },
    {
      "cell_type": "code",
      "execution_count": null,
      "metadata": {
        "id": "7H6AEwjjFwYi",
        "colab": {
          "base_uri": "https://localhost:8080/"
        },
        "outputId": "a44286c5-824b-42f1-b146-4cebdaf344ab"
      },
      "outputs": [
        {
          "output_type": "execute_result",
          "data": {
            "text/plain": [
              "Index(['index', 'Price', 'Levy', 'Manufacturer', 'Model', 'Prod. year',\n",
              "       'Category', 'Leather interior', 'Fuel type', 'Engine volume', 'Mileage',\n",
              "       'Cylinders', 'Gear box type', 'Drive wheels', 'Doors', 'Wheel', 'Color',\n",
              "       'Airbags'],\n",
              "      dtype='object')"
            ]
          },
          "metadata": {},
          "execution_count": 13
        }
      ],
      "source": [
        "cars_org.columns"
      ],
      "id": "7H6AEwjjFwYi"
    },
    {
      "cell_type": "code",
      "execution_count": null,
      "metadata": {
        "id": "Ta8DTxqBFwYi",
        "colab": {
          "base_uri": "https://localhost:8080/"
        },
        "outputId": "840db3a7-150e-4858-bebd-226f2003afb1"
      },
      "outputs": [
        {
          "output_type": "execute_result",
          "data": {
            "text/plain": [
              "array(['3.5', '3', '1.3', '2.5', '2', '1.8', '2.4', '4', '1.6', '3.3',\n",
              "       '2.0 Turbo', '2.2 Turbo', '4.7', '1.5', '4.4', '3.0 Turbo',\n",
              "       '1.4 Turbo', '3.6', '2.3', '1.5 Turbo', '1.6 Turbo', '2.2',\n",
              "       '2.3 Turbo', '1.4', '5.5', '2.8 Turbo', '3.2', '3.8', '4.6', '1.2',\n",
              "       '5', '1.7', '2.9', '0.5', '1.8 Turbo', '2.4 Turbo', '3.5 Turbo',\n",
              "       '1.9', '2.7', '4.8', '5.3', '0.4', '2.8', '3.2 Turbo', '1.1',\n",
              "       '2.1', '0.7', '5.4', '1.3 Turbo', '3.7', '1', '2.5 Turbo', '2.6',\n",
              "       '1.9 Turbo', '4.4 Turbo', '4.7 Turbo', '0.8', '0.2 Turbo', '5.7',\n",
              "       '4.8 Turbo', '4.6 Turbo', '6.7', '6.2', '1.2 Turbo', '3.4',\n",
              "       '1.7 Turbo', '2.7 Turbo', '4.3', '4.2', '2.9 Turbo', '0', '20',\n",
              "       '3.6 Turbo', '0.3', '3.7 Turbo', '5.9', '5.5 Turbo', '6.3 Turbo',\n",
              "       '0.2', '2.1 Turbo', '5.6', '6', '0.7 Turbo', '0.6 Turbo', '6.8',\n",
              "       '4.5', '0.6', '7.3', '0.1', '1.0 Turbo', '6.3', '4.5 Turbo',\n",
              "       '0.8 Turbo', '4.2 Turbo', '3.1', '5.0 Turbo', '6.4', '3.9', '0.9',\n",
              "       '4.0 Turbo', '0.4 Turbo', '5.4 Turbo', '0.3 Turbo', '5.2', '5.8',\n",
              "       '1.1 Turbo'], dtype=object)"
            ]
          },
          "metadata": {},
          "execution_count": 14
        }
      ],
      "source": [
        "cars_org['Engine volume'].unique()"
      ],
      "id": "Ta8DTxqBFwYi"
    },
    {
      "cell_type": "markdown",
      "metadata": {
        "id": "EVvrQgFbFwYj"
      },
      "source": [
        "In car Engine volume column there is some additional information about engine, so this column was split into two and original one type switched into numerical"
      ],
      "id": "EVvrQgFbFwYj"
    },
    {
      "cell_type": "code",
      "execution_count": null,
      "metadata": {
        "id": "cDqfQaeYFwYj"
      },
      "outputs": [],
      "source": [
        "cars_org['Engine volume']=cars_org['Engine volume'].str.replace(' ','')"
      ],
      "id": "cDqfQaeYFwYj"
    },
    {
      "cell_type": "code",
      "execution_count": null,
      "metadata": {
        "id": "LDaplWvRFwYj"
      },
      "outputs": [],
      "source": [
        "def trb(value):\n",
        "    if value[-5:]=='Turbo':\n",
        "        return 1\n",
        "    else:\n",
        "        return 0\n",
        "cars_org['turbo']=cars_org['Engine volume'].apply(trb)"
      ],
      "id": "LDaplWvRFwYj"
    },
    {
      "cell_type": "code",
      "execution_count": null,
      "metadata": {
        "id": "AZeNN8VnFwYk"
      },
      "outputs": [],
      "source": [
        "cars_org['Engine volume']=cars_org['Engine volume'].str.replace('Turbo','')\n",
        "cars_org['Engine volume']=cars_org['Engine volume'].astype('float')"
      ],
      "id": "AZeNN8VnFwYk"
    },
    {
      "cell_type": "markdown",
      "metadata": {
        "id": "_Ke-vNT2FwYk"
      },
      "source": [
        "Cars with engine volume = 0 was recognized as damaged and also excluded. Outlier was also recognized and fixed."
      ],
      "id": "_Ke-vNT2FwYk"
    },
    {
      "cell_type": "code",
      "execution_count": null,
      "metadata": {
        "id": "aipxrE_KFwYl",
        "colab": {
          "base_uri": "https://localhost:8080/",
          "height": 598
        },
        "outputId": "cfc628b9-aedc-4339-93aa-4f64ea7cc841"
      },
      "outputs": [
        {
          "output_type": "execute_result",
          "data": {
            "text/html": [
              "\n",
              "  <div id=\"df-33456fd1-6292-48da-94ee-c41b72f0bd24\">\n",
              "    <div class=\"colab-df-container\">\n",
              "      <div>\n",
              "<style scoped>\n",
              "    .dataframe tbody tr th:only-of-type {\n",
              "        vertical-align: middle;\n",
              "    }\n",
              "\n",
              "    .dataframe tbody tr th {\n",
              "        vertical-align: top;\n",
              "    }\n",
              "\n",
              "    .dataframe thead th {\n",
              "        text-align: right;\n",
              "    }\n",
              "</style>\n",
              "<table border=\"1\" class=\"dataframe\">\n",
              "  <thead>\n",
              "    <tr style=\"text-align: right;\">\n",
              "      <th></th>\n",
              "      <th>index</th>\n",
              "      <th>Price</th>\n",
              "      <th>Levy</th>\n",
              "      <th>Manufacturer</th>\n",
              "      <th>Model</th>\n",
              "      <th>Prod. year</th>\n",
              "      <th>Category</th>\n",
              "      <th>Leather interior</th>\n",
              "      <th>Fuel type</th>\n",
              "      <th>Engine volume</th>\n",
              "      <th>Mileage</th>\n",
              "      <th>Cylinders</th>\n",
              "      <th>Gear box type</th>\n",
              "      <th>Drive wheels</th>\n",
              "      <th>Doors</th>\n",
              "      <th>Wheel</th>\n",
              "      <th>Color</th>\n",
              "      <th>Airbags</th>\n",
              "      <th>turbo</th>\n",
              "    </tr>\n",
              "  </thead>\n",
              "  <tbody>\n",
              "    <tr>\n",
              "      <th>2010</th>\n",
              "      <td>2010</td>\n",
              "      <td>53941</td>\n",
              "      <td>87</td>\n",
              "      <td>TESLA</td>\n",
              "      <td>Model X</td>\n",
              "      <td>2018</td>\n",
              "      <td>Sedan</td>\n",
              "      <td>Yes</td>\n",
              "      <td>Petrol</td>\n",
              "      <td>0.0</td>\n",
              "      <td>81907 km</td>\n",
              "      <td>6.0</td>\n",
              "      <td>Automatic</td>\n",
              "      <td>4x4</td>\n",
              "      <td>04-May</td>\n",
              "      <td>Left wheel</td>\n",
              "      <td>Silver</td>\n",
              "      <td>12</td>\n",
              "      <td>0</td>\n",
              "    </tr>\n",
              "    <tr>\n",
              "      <th>3105</th>\n",
              "      <td>3105</td>\n",
              "      <td>2430</td>\n",
              "      <td>87</td>\n",
              "      <td>MERCEDES-BENZ</td>\n",
              "      <td>C 250</td>\n",
              "      <td>2013</td>\n",
              "      <td>Coupe</td>\n",
              "      <td>Yes</td>\n",
              "      <td>Petrol</td>\n",
              "      <td>0.0</td>\n",
              "      <td>121600 km</td>\n",
              "      <td>4.0</td>\n",
              "      <td>Automatic</td>\n",
              "      <td>Rear</td>\n",
              "      <td>04-May</td>\n",
              "      <td>Left wheel</td>\n",
              "      <td>White</td>\n",
              "      <td>12</td>\n",
              "      <td>0</td>\n",
              "    </tr>\n",
              "    <tr>\n",
              "      <th>3516</th>\n",
              "      <td>3516</td>\n",
              "      <td>27356</td>\n",
              "      <td>87</td>\n",
              "      <td>HYUNDAI</td>\n",
              "      <td>Elantra</td>\n",
              "      <td>2016</td>\n",
              "      <td>Sedan</td>\n",
              "      <td>Yes</td>\n",
              "      <td>LPG</td>\n",
              "      <td>0.0</td>\n",
              "      <td>65004 km</td>\n",
              "      <td>4.0</td>\n",
              "      <td>Automatic</td>\n",
              "      <td>Front</td>\n",
              "      <td>04-May</td>\n",
              "      <td>Left wheel</td>\n",
              "      <td>White</td>\n",
              "      <td>4</td>\n",
              "      <td>0</td>\n",
              "    </tr>\n",
              "    <tr>\n",
              "      <th>4814</th>\n",
              "      <td>4814</td>\n",
              "      <td>17663</td>\n",
              "      <td>87</td>\n",
              "      <td>TOYOTA</td>\n",
              "      <td>Aqua</td>\n",
              "      <td>2012</td>\n",
              "      <td>Hatchback</td>\n",
              "      <td>Yes</td>\n",
              "      <td>Petrol</td>\n",
              "      <td>0.0</td>\n",
              "      <td>118000 km</td>\n",
              "      <td>4.0</td>\n",
              "      <td>Automatic</td>\n",
              "      <td>Front</td>\n",
              "      <td>04-May</td>\n",
              "      <td>Left wheel</td>\n",
              "      <td>Grey</td>\n",
              "      <td>4</td>\n",
              "      <td>0</td>\n",
              "    </tr>\n",
              "    <tr>\n",
              "      <th>7022</th>\n",
              "      <td>7022</td>\n",
              "      <td>17663</td>\n",
              "      <td>87</td>\n",
              "      <td>TOYOTA</td>\n",
              "      <td>Aqua</td>\n",
              "      <td>2012</td>\n",
              "      <td>Hatchback</td>\n",
              "      <td>Yes</td>\n",
              "      <td>Petrol</td>\n",
              "      <td>0.0</td>\n",
              "      <td>118000 km</td>\n",
              "      <td>4.0</td>\n",
              "      <td>Automatic</td>\n",
              "      <td>Front</td>\n",
              "      <td>04-May</td>\n",
              "      <td>Left wheel</td>\n",
              "      <td>Grey</td>\n",
              "      <td>4</td>\n",
              "      <td>0</td>\n",
              "    </tr>\n",
              "    <tr>\n",
              "      <th>7685</th>\n",
              "      <td>7685</td>\n",
              "      <td>47076</td>\n",
              "      <td>87</td>\n",
              "      <td>SSANGYONG</td>\n",
              "      <td>REXTON</td>\n",
              "      <td>2016</td>\n",
              "      <td>Jeep</td>\n",
              "      <td>Yes</td>\n",
              "      <td>Diesel</td>\n",
              "      <td>0.0</td>\n",
              "      <td>73968 km</td>\n",
              "      <td>4.0</td>\n",
              "      <td>Automatic</td>\n",
              "      <td>Front</td>\n",
              "      <td>04-May</td>\n",
              "      <td>Left wheel</td>\n",
              "      <td>Black</td>\n",
              "      <td>4</td>\n",
              "      <td>0</td>\n",
              "    </tr>\n",
              "    <tr>\n",
              "      <th>10603</th>\n",
              "      <td>10603</td>\n",
              "      <td>12231</td>\n",
              "      <td>87</td>\n",
              "      <td>TOYOTA</td>\n",
              "      <td>Prius</td>\n",
              "      <td>2010</td>\n",
              "      <td>Hatchback</td>\n",
              "      <td>No</td>\n",
              "      <td>Hybrid</td>\n",
              "      <td>0.0</td>\n",
              "      <td>0 km</td>\n",
              "      <td>4.0</td>\n",
              "      <td>Automatic</td>\n",
              "      <td>Front</td>\n",
              "      <td>04-May</td>\n",
              "      <td>Left wheel</td>\n",
              "      <td>Golden</td>\n",
              "      <td>0</td>\n",
              "      <td>0</td>\n",
              "    </tr>\n",
              "    <tr>\n",
              "      <th>12917</th>\n",
              "      <td>12917</td>\n",
              "      <td>6</td>\n",
              "      <td>87</td>\n",
              "      <td>MERCEDES-BENZ</td>\n",
              "      <td>E 350</td>\n",
              "      <td>2016</td>\n",
              "      <td>Sedan</td>\n",
              "      <td>Yes</td>\n",
              "      <td>Petrol</td>\n",
              "      <td>0.0</td>\n",
              "      <td>33600 km</td>\n",
              "      <td>6.0</td>\n",
              "      <td>Automatic</td>\n",
              "      <td>Rear</td>\n",
              "      <td>04-May</td>\n",
              "      <td>Left wheel</td>\n",
              "      <td>White</td>\n",
              "      <td>12</td>\n",
              "      <td>0</td>\n",
              "    </tr>\n",
              "    <tr>\n",
              "      <th>14642</th>\n",
              "      <td>14642</td>\n",
              "      <td>3</td>\n",
              "      <td>87</td>\n",
              "      <td>PORSCHE</td>\n",
              "      <td>Panamera</td>\n",
              "      <td>2011</td>\n",
              "      <td>Sedan</td>\n",
              "      <td>Yes</td>\n",
              "      <td>Petrol</td>\n",
              "      <td>0.0</td>\n",
              "      <td>196800 km</td>\n",
              "      <td>6.0</td>\n",
              "      <td>Automatic</td>\n",
              "      <td>Rear</td>\n",
              "      <td>04-May</td>\n",
              "      <td>Left wheel</td>\n",
              "      <td>Black</td>\n",
              "      <td>12</td>\n",
              "      <td>0</td>\n",
              "    </tr>\n",
              "    <tr>\n",
              "      <th>17375</th>\n",
              "      <td>17375</td>\n",
              "      <td>78</td>\n",
              "      <td>87</td>\n",
              "      <td>MERCEDES-BENZ</td>\n",
              "      <td>CLS 550</td>\n",
              "      <td>2014</td>\n",
              "      <td>Sedan</td>\n",
              "      <td>Yes</td>\n",
              "      <td>Petrol</td>\n",
              "      <td>0.0</td>\n",
              "      <td>92800 km</td>\n",
              "      <td>8.0</td>\n",
              "      <td>Automatic</td>\n",
              "      <td>Rear</td>\n",
              "      <td>04-May</td>\n",
              "      <td>Left wheel</td>\n",
              "      <td>Black</td>\n",
              "      <td>12</td>\n",
              "      <td>0</td>\n",
              "    </tr>\n",
              "  </tbody>\n",
              "</table>\n",
              "</div>\n",
              "      <button class=\"colab-df-convert\" onclick=\"convertToInteractive('df-33456fd1-6292-48da-94ee-c41b72f0bd24')\"\n",
              "              title=\"Convert this dataframe to an interactive table.\"\n",
              "              style=\"display:none;\">\n",
              "        \n",
              "  <svg xmlns=\"http://www.w3.org/2000/svg\" height=\"24px\"viewBox=\"0 0 24 24\"\n",
              "       width=\"24px\">\n",
              "    <path d=\"M0 0h24v24H0V0z\" fill=\"none\"/>\n",
              "    <path d=\"M18.56 5.44l.94 2.06.94-2.06 2.06-.94-2.06-.94-.94-2.06-.94 2.06-2.06.94zm-11 1L8.5 8.5l.94-2.06 2.06-.94-2.06-.94L8.5 2.5l-.94 2.06-2.06.94zm10 10l.94 2.06.94-2.06 2.06-.94-2.06-.94-.94-2.06-.94 2.06-2.06.94z\"/><path d=\"M17.41 7.96l-1.37-1.37c-.4-.4-.92-.59-1.43-.59-.52 0-1.04.2-1.43.59L10.3 9.45l-7.72 7.72c-.78.78-.78 2.05 0 2.83L4 21.41c.39.39.9.59 1.41.59.51 0 1.02-.2 1.41-.59l7.78-7.78 2.81-2.81c.8-.78.8-2.07 0-2.86zM5.41 20L4 18.59l7.72-7.72 1.47 1.35L5.41 20z\"/>\n",
              "  </svg>\n",
              "      </button>\n",
              "      \n",
              "  <style>\n",
              "    .colab-df-container {\n",
              "      display:flex;\n",
              "      flex-wrap:wrap;\n",
              "      gap: 12px;\n",
              "    }\n",
              "\n",
              "    .colab-df-convert {\n",
              "      background-color: #E8F0FE;\n",
              "      border: none;\n",
              "      border-radius: 50%;\n",
              "      cursor: pointer;\n",
              "      display: none;\n",
              "      fill: #1967D2;\n",
              "      height: 32px;\n",
              "      padding: 0 0 0 0;\n",
              "      width: 32px;\n",
              "    }\n",
              "\n",
              "    .colab-df-convert:hover {\n",
              "      background-color: #E2EBFA;\n",
              "      box-shadow: 0px 1px 2px rgba(60, 64, 67, 0.3), 0px 1px 3px 1px rgba(60, 64, 67, 0.15);\n",
              "      fill: #174EA6;\n",
              "    }\n",
              "\n",
              "    [theme=dark] .colab-df-convert {\n",
              "      background-color: #3B4455;\n",
              "      fill: #D2E3FC;\n",
              "    }\n",
              "\n",
              "    [theme=dark] .colab-df-convert:hover {\n",
              "      background-color: #434B5C;\n",
              "      box-shadow: 0px 1px 3px 1px rgba(0, 0, 0, 0.15);\n",
              "      filter: drop-shadow(0px 1px 2px rgba(0, 0, 0, 0.3));\n",
              "      fill: #FFFFFF;\n",
              "    }\n",
              "  </style>\n",
              "\n",
              "      <script>\n",
              "        const buttonEl =\n",
              "          document.querySelector('#df-33456fd1-6292-48da-94ee-c41b72f0bd24 button.colab-df-convert');\n",
              "        buttonEl.style.display =\n",
              "          google.colab.kernel.accessAllowed ? 'block' : 'none';\n",
              "\n",
              "        async function convertToInteractive(key) {\n",
              "          const element = document.querySelector('#df-33456fd1-6292-48da-94ee-c41b72f0bd24');\n",
              "          const dataTable =\n",
              "            await google.colab.kernel.invokeFunction('convertToInteractive',\n",
              "                                                     [key], {});\n",
              "          if (!dataTable) return;\n",
              "\n",
              "          const docLinkHtml = 'Like what you see? Visit the ' +\n",
              "            '<a target=\"_blank\" href=https://colab.research.google.com/notebooks/data_table.ipynb>data table notebook</a>'\n",
              "            + ' to learn more about interactive tables.';\n",
              "          element.innerHTML = '';\n",
              "          dataTable['output_type'] = 'display_data';\n",
              "          await google.colab.output.renderOutput(dataTable, element);\n",
              "          const docLink = document.createElement('div');\n",
              "          docLink.innerHTML = docLinkHtml;\n",
              "          element.appendChild(docLink);\n",
              "        }\n",
              "      </script>\n",
              "    </div>\n",
              "  </div>\n",
              "  "
            ],
            "text/plain": [
              "       index  Price Levy   Manufacturer  ...       Wheel   Color Airbags turbo\n",
              "2010    2010  53941   87          TESLA  ...  Left wheel  Silver      12     0\n",
              "3105    3105   2430   87  MERCEDES-BENZ  ...  Left wheel   White      12     0\n",
              "3516    3516  27356   87        HYUNDAI  ...  Left wheel   White       4     0\n",
              "4814    4814  17663   87         TOYOTA  ...  Left wheel    Grey       4     0\n",
              "7022    7022  17663   87         TOYOTA  ...  Left wheel    Grey       4     0\n",
              "7685    7685  47076   87      SSANGYONG  ...  Left wheel   Black       4     0\n",
              "10603  10603  12231   87         TOYOTA  ...  Left wheel  Golden       0     0\n",
              "12917  12917      6   87  MERCEDES-BENZ  ...  Left wheel   White      12     0\n",
              "14642  14642      3   87        PORSCHE  ...  Left wheel   Black      12     0\n",
              "17375  17375     78   87  MERCEDES-BENZ  ...  Left wheel   Black      12     0\n",
              "\n",
              "[10 rows x 19 columns]"
            ]
          },
          "metadata": {},
          "execution_count": 18
        }
      ],
      "source": [
        "cars_org.loc[cars_org['Engine volume']==0,:]"
      ],
      "id": "aipxrE_KFwYl"
    },
    {
      "cell_type": "code",
      "execution_count": null,
      "metadata": {
        "id": "JXU5S_86FwYl",
        "colab": {
          "base_uri": "https://localhost:8080/",
          "height": 110
        },
        "outputId": "1f4a62c0-802c-47ed-89d9-6d2ff7c5b56c"
      },
      "outputs": [
        {
          "output_type": "execute_result",
          "data": {
            "text/html": [
              "\n",
              "  <div id=\"df-8c44ad17-3fd8-4018-8c75-dc6fb9f4ed15\">\n",
              "    <div class=\"colab-df-container\">\n",
              "      <div>\n",
              "<style scoped>\n",
              "    .dataframe tbody tr th:only-of-type {\n",
              "        vertical-align: middle;\n",
              "    }\n",
              "\n",
              "    .dataframe tbody tr th {\n",
              "        vertical-align: top;\n",
              "    }\n",
              "\n",
              "    .dataframe thead th {\n",
              "        text-align: right;\n",
              "    }\n",
              "</style>\n",
              "<table border=\"1\" class=\"dataframe\">\n",
              "  <thead>\n",
              "    <tr style=\"text-align: right;\">\n",
              "      <th></th>\n",
              "      <th>index</th>\n",
              "      <th>Price</th>\n",
              "      <th>Levy</th>\n",
              "      <th>Manufacturer</th>\n",
              "      <th>Model</th>\n",
              "      <th>Prod. year</th>\n",
              "      <th>Category</th>\n",
              "      <th>Leather interior</th>\n",
              "      <th>Fuel type</th>\n",
              "      <th>Engine volume</th>\n",
              "      <th>Mileage</th>\n",
              "      <th>Cylinders</th>\n",
              "      <th>Gear box type</th>\n",
              "      <th>Drive wheels</th>\n",
              "      <th>Doors</th>\n",
              "      <th>Wheel</th>\n",
              "      <th>Color</th>\n",
              "      <th>Airbags</th>\n",
              "      <th>turbo</th>\n",
              "    </tr>\n",
              "  </thead>\n",
              "  <tbody>\n",
              "  </tbody>\n",
              "</table>\n",
              "</div>\n",
              "      <button class=\"colab-df-convert\" onclick=\"convertToInteractive('df-8c44ad17-3fd8-4018-8c75-dc6fb9f4ed15')\"\n",
              "              title=\"Convert this dataframe to an interactive table.\"\n",
              "              style=\"display:none;\">\n",
              "        \n",
              "  <svg xmlns=\"http://www.w3.org/2000/svg\" height=\"24px\"viewBox=\"0 0 24 24\"\n",
              "       width=\"24px\">\n",
              "    <path d=\"M0 0h24v24H0V0z\" fill=\"none\"/>\n",
              "    <path d=\"M18.56 5.44l.94 2.06.94-2.06 2.06-.94-2.06-.94-.94-2.06-.94 2.06-2.06.94zm-11 1L8.5 8.5l.94-2.06 2.06-.94-2.06-.94L8.5 2.5l-.94 2.06-2.06.94zm10 10l.94 2.06.94-2.06 2.06-.94-2.06-.94-.94-2.06-.94 2.06-2.06.94z\"/><path d=\"M17.41 7.96l-1.37-1.37c-.4-.4-.92-.59-1.43-.59-.52 0-1.04.2-1.43.59L10.3 9.45l-7.72 7.72c-.78.78-.78 2.05 0 2.83L4 21.41c.39.39.9.59 1.41.59.51 0 1.02-.2 1.41-.59l7.78-7.78 2.81-2.81c.8-.78.8-2.07 0-2.86zM5.41 20L4 18.59l7.72-7.72 1.47 1.35L5.41 20z\"/>\n",
              "  </svg>\n",
              "      </button>\n",
              "      \n",
              "  <style>\n",
              "    .colab-df-container {\n",
              "      display:flex;\n",
              "      flex-wrap:wrap;\n",
              "      gap: 12px;\n",
              "    }\n",
              "\n",
              "    .colab-df-convert {\n",
              "      background-color: #E8F0FE;\n",
              "      border: none;\n",
              "      border-radius: 50%;\n",
              "      cursor: pointer;\n",
              "      display: none;\n",
              "      fill: #1967D2;\n",
              "      height: 32px;\n",
              "      padding: 0 0 0 0;\n",
              "      width: 32px;\n",
              "    }\n",
              "\n",
              "    .colab-df-convert:hover {\n",
              "      background-color: #E2EBFA;\n",
              "      box-shadow: 0px 1px 2px rgba(60, 64, 67, 0.3), 0px 1px 3px 1px rgba(60, 64, 67, 0.15);\n",
              "      fill: #174EA6;\n",
              "    }\n",
              "\n",
              "    [theme=dark] .colab-df-convert {\n",
              "      background-color: #3B4455;\n",
              "      fill: #D2E3FC;\n",
              "    }\n",
              "\n",
              "    [theme=dark] .colab-df-convert:hover {\n",
              "      background-color: #434B5C;\n",
              "      box-shadow: 0px 1px 3px 1px rgba(0, 0, 0, 0.15);\n",
              "      filter: drop-shadow(0px 1px 2px rgba(0, 0, 0, 0.3));\n",
              "      fill: #FFFFFF;\n",
              "    }\n",
              "  </style>\n",
              "\n",
              "      <script>\n",
              "        const buttonEl =\n",
              "          document.querySelector('#df-8c44ad17-3fd8-4018-8c75-dc6fb9f4ed15 button.colab-df-convert');\n",
              "        buttonEl.style.display =\n",
              "          google.colab.kernel.accessAllowed ? 'block' : 'none';\n",
              "\n",
              "        async function convertToInteractive(key) {\n",
              "          const element = document.querySelector('#df-8c44ad17-3fd8-4018-8c75-dc6fb9f4ed15');\n",
              "          const dataTable =\n",
              "            await google.colab.kernel.invokeFunction('convertToInteractive',\n",
              "                                                     [key], {});\n",
              "          if (!dataTable) return;\n",
              "\n",
              "          const docLinkHtml = 'Like what you see? Visit the ' +\n",
              "            '<a target=\"_blank\" href=https://colab.research.google.com/notebooks/data_table.ipynb>data table notebook</a>'\n",
              "            + ' to learn more about interactive tables.';\n",
              "          element.innerHTML = '';\n",
              "          dataTable['output_type'] = 'display_data';\n",
              "          await google.colab.output.renderOutput(dataTable, element);\n",
              "          const docLink = document.createElement('div');\n",
              "          docLink.innerHTML = docLinkHtml;\n",
              "          element.appendChild(docLink);\n",
              "        }\n",
              "      </script>\n",
              "    </div>\n",
              "  </div>\n",
              "  "
            ],
            "text/plain": [
              "Empty DataFrame\n",
              "Columns: [index, Price, Levy, Manufacturer, Model, Prod. year, Category, Leather interior, Fuel type, Engine volume, Mileage, Cylinders, Gear box type, Drive wheels, Doors, Wheel, Color, Airbags, turbo]\n",
              "Index: []"
            ]
          },
          "metadata": {},
          "execution_count": 19
        }
      ],
      "source": [
        "cars_org=cars_org.loc[cars_org['Engine volume']>0,:]\n",
        "cars_org.loc[cars_org['Engine volume']==0,:]"
      ],
      "id": "JXU5S_86FwYl"
    },
    {
      "cell_type": "code",
      "execution_count": null,
      "metadata": {
        "id": "47yJ0sEbFwYl",
        "colab": {
          "base_uri": "https://localhost:8080/"
        },
        "outputId": "ab02243a-40c7-4785-9cc4-6568bd1e95e5"
      },
      "outputs": [
        {
          "output_type": "execute_result",
          "data": {
            "text/plain": [
              "0        3.5\n",
              "1        3.0\n",
              "2        1.3\n",
              "3        2.5\n",
              "4        1.3\n",
              "        ... \n",
              "19232    2.0\n",
              "19233    2.4\n",
              "19234    2.0\n",
              "19235    2.0\n",
              "19236    2.4\n",
              "Name: Engine volume, Length: 19189, dtype: float64"
            ]
          },
          "metadata": {},
          "execution_count": 20
        }
      ],
      "source": [
        "def fix(no):\n",
        "    if no==20:\n",
        "        return 2\n",
        "    else:\n",
        "        return no\n",
        "cars_org['Engine volume']=cars_org['Engine volume'].apply(fix)\n",
        "cars_org['Engine volume']"
      ],
      "id": "47yJ0sEbFwYl"
    },
    {
      "cell_type": "code",
      "execution_count": null,
      "metadata": {
        "id": "zUpvwfv9FwYm",
        "colab": {
          "base_uri": "https://localhost:8080/",
          "height": 423
        },
        "outputId": "2505d3a3-63c7-4378-f9ef-768ae0cc06cc"
      },
      "outputs": [
        {
          "output_type": "execute_result",
          "data": {
            "text/html": [
              "\n",
              "  <div id=\"df-aeaa24cd-2ede-4ea1-a7cb-d03228e733b4\">\n",
              "    <div class=\"colab-df-container\">\n",
              "      <div>\n",
              "<style scoped>\n",
              "    .dataframe tbody tr th:only-of-type {\n",
              "        vertical-align: middle;\n",
              "    }\n",
              "\n",
              "    .dataframe tbody tr th {\n",
              "        vertical-align: top;\n",
              "    }\n",
              "\n",
              "    .dataframe thead th {\n",
              "        text-align: right;\n",
              "    }\n",
              "</style>\n",
              "<table border=\"1\" class=\"dataframe\">\n",
              "  <thead>\n",
              "    <tr style=\"text-align: right;\">\n",
              "      <th></th>\n",
              "      <th>Price</th>\n",
              "      <th>Mileage</th>\n",
              "      <th>car_age</th>\n",
              "      <th>Engine volume</th>\n",
              "      <th>Turbo</th>\n",
              "      <th>Cylinders</th>\n",
              "      <th>Airbags</th>\n",
              "    </tr>\n",
              "  </thead>\n",
              "  <tbody>\n",
              "    <tr>\n",
              "      <th>0</th>\n",
              "      <td>13328</td>\n",
              "      <td>186005.0</td>\n",
              "      <td>12</td>\n",
              "      <td>3.5</td>\n",
              "      <td>0</td>\n",
              "      <td>6.0</td>\n",
              "      <td>12</td>\n",
              "    </tr>\n",
              "    <tr>\n",
              "      <th>1</th>\n",
              "      <td>16621</td>\n",
              "      <td>192000.0</td>\n",
              "      <td>11</td>\n",
              "      <td>3.0</td>\n",
              "      <td>0</td>\n",
              "      <td>6.0</td>\n",
              "      <td>8</td>\n",
              "    </tr>\n",
              "    <tr>\n",
              "      <th>2</th>\n",
              "      <td>8467</td>\n",
              "      <td>200000.0</td>\n",
              "      <td>16</td>\n",
              "      <td>1.3</td>\n",
              "      <td>0</td>\n",
              "      <td>4.0</td>\n",
              "      <td>2</td>\n",
              "    </tr>\n",
              "    <tr>\n",
              "      <th>3</th>\n",
              "      <td>3607</td>\n",
              "      <td>168966.0</td>\n",
              "      <td>11</td>\n",
              "      <td>2.5</td>\n",
              "      <td>0</td>\n",
              "      <td>4.0</td>\n",
              "      <td>0</td>\n",
              "    </tr>\n",
              "    <tr>\n",
              "      <th>4</th>\n",
              "      <td>11726</td>\n",
              "      <td>91901.0</td>\n",
              "      <td>8</td>\n",
              "      <td>1.3</td>\n",
              "      <td>0</td>\n",
              "      <td>4.0</td>\n",
              "      <td>4</td>\n",
              "    </tr>\n",
              "    <tr>\n",
              "      <th>...</th>\n",
              "      <td>...</td>\n",
              "      <td>...</td>\n",
              "      <td>...</td>\n",
              "      <td>...</td>\n",
              "      <td>...</td>\n",
              "      <td>...</td>\n",
              "      <td>...</td>\n",
              "    </tr>\n",
              "    <tr>\n",
              "      <th>19232</th>\n",
              "      <td>8467</td>\n",
              "      <td>300000.0</td>\n",
              "      <td>23</td>\n",
              "      <td>2.0</td>\n",
              "      <td>1</td>\n",
              "      <td>4.0</td>\n",
              "      <td>5</td>\n",
              "    </tr>\n",
              "    <tr>\n",
              "      <th>19233</th>\n",
              "      <td>15681</td>\n",
              "      <td>161600.0</td>\n",
              "      <td>11</td>\n",
              "      <td>2.4</td>\n",
              "      <td>0</td>\n",
              "      <td>4.0</td>\n",
              "      <td>8</td>\n",
              "    </tr>\n",
              "    <tr>\n",
              "      <th>19234</th>\n",
              "      <td>26108</td>\n",
              "      <td>116365.0</td>\n",
              "      <td>12</td>\n",
              "      <td>2.0</td>\n",
              "      <td>0</td>\n",
              "      <td>4.0</td>\n",
              "      <td>4</td>\n",
              "    </tr>\n",
              "    <tr>\n",
              "      <th>19235</th>\n",
              "      <td>5331</td>\n",
              "      <td>51258.0</td>\n",
              "      <td>15</td>\n",
              "      <td>2.0</td>\n",
              "      <td>0</td>\n",
              "      <td>4.0</td>\n",
              "      <td>4</td>\n",
              "    </tr>\n",
              "    <tr>\n",
              "      <th>19236</th>\n",
              "      <td>470</td>\n",
              "      <td>186923.0</td>\n",
              "      <td>10</td>\n",
              "      <td>2.4</td>\n",
              "      <td>0</td>\n",
              "      <td>4.0</td>\n",
              "      <td>12</td>\n",
              "    </tr>\n",
              "  </tbody>\n",
              "</table>\n",
              "<p>19189 rows × 7 columns</p>\n",
              "</div>\n",
              "      <button class=\"colab-df-convert\" onclick=\"convertToInteractive('df-aeaa24cd-2ede-4ea1-a7cb-d03228e733b4')\"\n",
              "              title=\"Convert this dataframe to an interactive table.\"\n",
              "              style=\"display:none;\">\n",
              "        \n",
              "  <svg xmlns=\"http://www.w3.org/2000/svg\" height=\"24px\"viewBox=\"0 0 24 24\"\n",
              "       width=\"24px\">\n",
              "    <path d=\"M0 0h24v24H0V0z\" fill=\"none\"/>\n",
              "    <path d=\"M18.56 5.44l.94 2.06.94-2.06 2.06-.94-2.06-.94-.94-2.06-.94 2.06-2.06.94zm-11 1L8.5 8.5l.94-2.06 2.06-.94-2.06-.94L8.5 2.5l-.94 2.06-2.06.94zm10 10l.94 2.06.94-2.06 2.06-.94-2.06-.94-.94-2.06-.94 2.06-2.06.94z\"/><path d=\"M17.41 7.96l-1.37-1.37c-.4-.4-.92-.59-1.43-.59-.52 0-1.04.2-1.43.59L10.3 9.45l-7.72 7.72c-.78.78-.78 2.05 0 2.83L4 21.41c.39.39.9.59 1.41.59.51 0 1.02-.2 1.41-.59l7.78-7.78 2.81-2.81c.8-.78.8-2.07 0-2.86zM5.41 20L4 18.59l7.72-7.72 1.47 1.35L5.41 20z\"/>\n",
              "  </svg>\n",
              "      </button>\n",
              "      \n",
              "  <style>\n",
              "    .colab-df-container {\n",
              "      display:flex;\n",
              "      flex-wrap:wrap;\n",
              "      gap: 12px;\n",
              "    }\n",
              "\n",
              "    .colab-df-convert {\n",
              "      background-color: #E8F0FE;\n",
              "      border: none;\n",
              "      border-radius: 50%;\n",
              "      cursor: pointer;\n",
              "      display: none;\n",
              "      fill: #1967D2;\n",
              "      height: 32px;\n",
              "      padding: 0 0 0 0;\n",
              "      width: 32px;\n",
              "    }\n",
              "\n",
              "    .colab-df-convert:hover {\n",
              "      background-color: #E2EBFA;\n",
              "      box-shadow: 0px 1px 2px rgba(60, 64, 67, 0.3), 0px 1px 3px 1px rgba(60, 64, 67, 0.15);\n",
              "      fill: #174EA6;\n",
              "    }\n",
              "\n",
              "    [theme=dark] .colab-df-convert {\n",
              "      background-color: #3B4455;\n",
              "      fill: #D2E3FC;\n",
              "    }\n",
              "\n",
              "    [theme=dark] .colab-df-convert:hover {\n",
              "      background-color: #434B5C;\n",
              "      box-shadow: 0px 1px 3px 1px rgba(0, 0, 0, 0.15);\n",
              "      filter: drop-shadow(0px 1px 2px rgba(0, 0, 0, 0.3));\n",
              "      fill: #FFFFFF;\n",
              "    }\n",
              "  </style>\n",
              "\n",
              "      <script>\n",
              "        const buttonEl =\n",
              "          document.querySelector('#df-aeaa24cd-2ede-4ea1-a7cb-d03228e733b4 button.colab-df-convert');\n",
              "        buttonEl.style.display =\n",
              "          google.colab.kernel.accessAllowed ? 'block' : 'none';\n",
              "\n",
              "        async function convertToInteractive(key) {\n",
              "          const element = document.querySelector('#df-aeaa24cd-2ede-4ea1-a7cb-d03228e733b4');\n",
              "          const dataTable =\n",
              "            await google.colab.kernel.invokeFunction('convertToInteractive',\n",
              "                                                     [key], {});\n",
              "          if (!dataTable) return;\n",
              "\n",
              "          const docLinkHtml = 'Like what you see? Visit the ' +\n",
              "            '<a target=\"_blank\" href=https://colab.research.google.com/notebooks/data_table.ipynb>data table notebook</a>'\n",
              "            + ' to learn more about interactive tables.';\n",
              "          element.innerHTML = '';\n",
              "          dataTable['output_type'] = 'display_data';\n",
              "          await google.colab.output.renderOutput(dataTable, element);\n",
              "          const docLink = document.createElement('div');\n",
              "          docLink.innerHTML = docLinkHtml;\n",
              "          element.appendChild(docLink);\n",
              "        }\n",
              "      </script>\n",
              "    </div>\n",
              "  </div>\n",
              "  "
            ],
            "text/plain": [
              "       Price   Mileage  car_age  Engine volume  Turbo  Cylinders  Airbags\n",
              "0      13328  186005.0       12            3.5      0        6.0       12\n",
              "1      16621  192000.0       11            3.0      0        6.0        8\n",
              "2       8467  200000.0       16            1.3      0        4.0        2\n",
              "3       3607  168966.0       11            2.5      0        4.0        0\n",
              "4      11726   91901.0        8            1.3      0        4.0        4\n",
              "...      ...       ...      ...            ...    ...        ...      ...\n",
              "19232   8467  300000.0       23            2.0      1        4.0        5\n",
              "19233  15681  161600.0       11            2.4      0        4.0        8\n",
              "19234  26108  116365.0       12            2.0      0        4.0        4\n",
              "19235   5331   51258.0       15            2.0      0        4.0        4\n",
              "19236    470  186923.0       10            2.4      0        4.0       12\n",
              "\n",
              "[19189 rows x 7 columns]"
            ]
          },
          "metadata": {},
          "execution_count": 21
        }
      ],
      "source": [
        "cars_mod['Price']=cars_org['Price']\n",
        "cars_mod['Mileage']=cars_org['Mileage'].str.replace('km','').astype('float')\n",
        "cars_mod['car_age']=yr-cars_org['Prod. year']\n",
        "cars_mod['Engine volume']=cars_org['Engine volume']\n",
        "cars_mod['Turbo']=cars_org['turbo']\n",
        "cars_mod['Cylinders']=cars_org['Cylinders']\n",
        "cars_mod['Airbags']=cars_org['Airbags']\n",
        "cars_mod"
      ],
      "id": "zUpvwfv9FwYm"
    },
    {
      "cell_type": "markdown",
      "metadata": {
        "id": "d8A_qt7AFwYn"
      },
      "source": [
        "Variable $\\it{Levy}$ in original data set means kind of tax, so value \"-\" means tax-free, so missing values means 0. This column will be also transformed as float type."
      ],
      "id": "d8A_qt7AFwYn"
    },
    {
      "cell_type": "code",
      "execution_count": null,
      "metadata": {
        "id": "rwoF00e9FwYn"
      },
      "outputs": [],
      "source": [
        "cars_mod['tax']=cars_org['Levy'].str.replace('-','0').astype('float')"
      ],
      "id": "rwoF00e9FwYn"
    },
    {
      "cell_type": "markdown",
      "metadata": {
        "id": "Ur0qYIhXFwYo"
      },
      "source": [
        "At this level of preprocessing dataframe car_mod contains only numerical data."
      ],
      "id": "Ur0qYIhXFwYo"
    },
    {
      "cell_type": "code",
      "execution_count": null,
      "metadata": {
        "id": "NrjyXgCSFwYo"
      },
      "outputs": [],
      "source": [
        "num_features=[ 'Mileage', 'car_age', 'Engine volume', 'Turbo', 'Cylinders',\n",
        "       'Airbags', 'tax']\n",
        "target='Price'"
      ],
      "id": "NrjyXgCSFwYo"
    },
    {
      "cell_type": "code",
      "execution_count": null,
      "metadata": {
        "id": "i0sA0KBhFwYp",
        "colab": {
          "base_uri": "https://localhost:8080/"
        },
        "outputId": "956861d3-7033-4476-ffa1-6e49f145daa8"
      },
      "outputs": [
        {
          "output_type": "execute_result",
          "data": {
            "text/plain": [
              "Price            1.000000\n",
              "Mileage         -0.015465\n",
              "car_age         -0.311171\n",
              "Engine volume    0.125265\n",
              "Turbo            0.196394\n",
              "Cylinders        0.090968\n",
              "Airbags         -0.025556\n",
              "tax              0.040584\n",
              "Name: Price, dtype: float64"
            ]
          },
          "metadata": {},
          "execution_count": 24
        }
      ],
      "source": [
        "value=[target]+num_features\n",
        "corr_matrix=cars_mod[value].corr()\n",
        "corr_matrix['Price']"
      ],
      "id": "i0sA0KBhFwYp"
    },
    {
      "cell_type": "code",
      "execution_count": null,
      "metadata": {
        "id": "kQlF30cJFwYp"
      },
      "outputs": [],
      "source": [
        "cars_mod['cylvol']=cars_mod['Engine volume']/cars_mod['Cylinders']"
      ],
      "id": "kQlF30cJFwYp"
    },
    {
      "cell_type": "code",
      "execution_count": null,
      "metadata": {
        "scrolled": true,
        "id": "Qag4Axr6FwYq",
        "colab": {
          "base_uri": "https://localhost:8080/"
        },
        "outputId": "dec05e0b-a058-43b0-9226-0e19f35d29e5"
      },
      "outputs": [
        {
          "output_type": "execute_result",
          "data": {
            "text/plain": [
              "Price            1.000000\n",
              "Mileage         -0.015465\n",
              "car_age         -0.311171\n",
              "Engine volume    0.125265\n",
              "Turbo            0.196394\n",
              "Cylinders        0.090968\n",
              "Airbags         -0.025556\n",
              "tax              0.040584\n",
              "cylvol           0.102336\n",
              "Name: Price, dtype: float64"
            ]
          },
          "metadata": {},
          "execution_count": 26
        }
      ],
      "source": [
        "value=[target]+num_features+['cylvol']\n",
        "corr_matrix=cars_mod[value].corr()\n",
        "corr_matrix['Price']"
      ],
      "id": "Qag4Axr6FwYq"
    },
    {
      "cell_type": "markdown",
      "metadata": {
        "id": "QVpYiPeGFwYq"
      },
      "source": [
        "No need to include $\\it{cylvol}$ variable. No increase of correlation with target observed."
      ],
      "id": "QVpYiPeGFwYq"
    },
    {
      "cell_type": "code",
      "execution_count": null,
      "metadata": {
        "id": "bK5yWNUOFwYr",
        "colab": {
          "base_uri": "https://localhost:8080/",
          "height": 571
        },
        "outputId": "7fae44d6-4234-4b8d-b9bd-f8e8c9e71526"
      },
      "outputs": [
        {
          "output_type": "display_data",
          "data": {
            "image/png": "[encoded data removed]",
            "text/plain": [
              "<Figure size 1152x648 with 16 Axes>"
            ]
          },
          "metadata": {
            "needs_background": "light"
          }
        }
      ],
      "source": [
        "scatter_matrix(cars_mod.iloc[:,0:4], figsize=(16,9))\n",
        "plt.show()"
      ],
      "id": "bK5yWNUOFwYr"
    },
    {
      "cell_type": "code",
      "execution_count": null,
      "metadata": {
        "id": "86s3wv_YFwYr",
        "colab": {
          "base_uri": "https://localhost:8080/",
          "height": 300
        },
        "outputId": "05b4ba11-7efc-4375-fe18-847292fa4101"
      },
      "outputs": [
        {
          "output_type": "execute_result",
          "data": {
            "text/html": [
              "\n",
              "  <div id=\"df-7f0a326f-88f6-47f7-b5d3-0f77656f0a58\">\n",
              "    <div class=\"colab-df-container\">\n",
              "      <div>\n",
              "<style scoped>\n",
              "    .dataframe tbody tr th:only-of-type {\n",
              "        vertical-align: middle;\n",
              "    }\n",
              "\n",
              "    .dataframe tbody tr th {\n",
              "        vertical-align: top;\n",
              "    }\n",
              "\n",
              "    .dataframe thead th {\n",
              "        text-align: right;\n",
              "    }\n",
              "</style>\n",
              "<table border=\"1\" class=\"dataframe\">\n",
              "  <thead>\n",
              "    <tr style=\"text-align: right;\">\n",
              "      <th></th>\n",
              "      <th>Price</th>\n",
              "      <th>Mileage</th>\n",
              "      <th>car_age</th>\n",
              "      <th>Engine volume</th>\n",
              "      <th>Turbo</th>\n",
              "      <th>Cylinders</th>\n",
              "      <th>Airbags</th>\n",
              "      <th>tax</th>\n",
              "      <th>cylvol</th>\n",
              "    </tr>\n",
              "  </thead>\n",
              "  <tbody>\n",
              "    <tr>\n",
              "      <th>count</th>\n",
              "      <td>19189.000000</td>\n",
              "      <td>1.918900e+04</td>\n",
              "      <td>19189.000000</td>\n",
              "      <td>19189.000000</td>\n",
              "      <td>19189.000000</td>\n",
              "      <td>19189.000000</td>\n",
              "      <td>19189.000000</td>\n",
              "      <td>19189.000000</td>\n",
              "      <td>19189.000000</td>\n",
              "    </tr>\n",
              "    <tr>\n",
              "      <th>mean</th>\n",
              "      <td>16986.917088</td>\n",
              "      <td>1.423955e+06</td>\n",
              "      <td>11.028037</td>\n",
              "      <td>2.306029</td>\n",
              "      <td>0.100057</td>\n",
              "      <td>4.580802</td>\n",
              "      <td>6.586065</td>\n",
              "      <td>633.400177</td>\n",
              "      <td>0.501142</td>\n",
              "    </tr>\n",
              "    <tr>\n",
              "      <th>std</th>\n",
              "      <td>17371.017582</td>\n",
              "      <td>4.592145e+07</td>\n",
              "      <td>5.372283</td>\n",
              "      <td>0.855150</td>\n",
              "      <td>0.300084</td>\n",
              "      <td>1.196548</td>\n",
              "      <td>4.315782</td>\n",
              "      <td>566.874427</td>\n",
              "      <td>0.133093</td>\n",
              "    </tr>\n",
              "    <tr>\n",
              "      <th>min</th>\n",
              "      <td>1.000000</td>\n",
              "      <td>0.000000e+00</td>\n",
              "      <td>2.000000</td>\n",
              "      <td>0.100000</td>\n",
              "      <td>0.000000</td>\n",
              "      <td>1.000000</td>\n",
              "      <td>0.000000</td>\n",
              "      <td>0.000000</td>\n",
              "      <td>0.033333</td>\n",
              "    </tr>\n",
              "    <tr>\n",
              "      <th>25%</th>\n",
              "      <td>5331.000000</td>\n",
              "      <td>7.033600e+04</td>\n",
              "      <td>7.000000</td>\n",
              "      <td>1.800000</td>\n",
              "      <td>0.000000</td>\n",
              "      <td>4.000000</td>\n",
              "      <td>4.000000</td>\n",
              "      <td>0.000000</td>\n",
              "      <td>0.416667</td>\n",
              "    </tr>\n",
              "    <tr>\n",
              "      <th>50%</th>\n",
              "      <td>13172.000000</td>\n",
              "      <td>1.261170e+05</td>\n",
              "      <td>10.000000</td>\n",
              "      <td>2.000000</td>\n",
              "      <td>0.000000</td>\n",
              "      <td>4.000000</td>\n",
              "      <td>6.000000</td>\n",
              "      <td>642.000000</td>\n",
              "      <td>0.500000</td>\n",
              "    </tr>\n",
              "    <tr>\n",
              "      <th>75%</th>\n",
              "      <td>22000.000000</td>\n",
              "      <td>1.890000e+05</td>\n",
              "      <td>13.000000</td>\n",
              "      <td>2.500000</td>\n",
              "      <td>0.000000</td>\n",
              "      <td>4.000000</td>\n",
              "      <td>12.000000</td>\n",
              "      <td>917.000000</td>\n",
              "      <td>0.583333</td>\n",
              "    </tr>\n",
              "    <tr>\n",
              "      <th>max</th>\n",
              "      <td>194438.000000</td>\n",
              "      <td>2.147484e+09</td>\n",
              "      <td>40.000000</td>\n",
              "      <td>7.300000</td>\n",
              "      <td>1.000000</td>\n",
              "      <td>16.000000</td>\n",
              "      <td>16.000000</td>\n",
              "      <td>11714.000000</td>\n",
              "      <td>6.300000</td>\n",
              "    </tr>\n",
              "  </tbody>\n",
              "</table>\n",
              "</div>\n",
              "      <button class=\"colab-df-convert\" onclick=\"convertToInteractive('df-7f0a326f-88f6-47f7-b5d3-0f77656f0a58')\"\n",
              "              title=\"Convert this dataframe to an interactive table.\"\n",
              "              style=\"display:none;\">\n",
              "        \n",
              "  <svg xmlns=\"http://www.w3.org/2000/svg\" height=\"24px\"viewBox=\"0 0 24 24\"\n",
              "       width=\"24px\">\n",
              "    <path d=\"M0 0h24v24H0V0z\" fill=\"none\"/>\n",
              "    <path d=\"M18.56 5.44l.94 2.06.94-2.06 2.06-.94-2.06-.94-.94-2.06-.94 2.06-2.06.94zm-11 1L8.5 8.5l.94-2.06 2.06-.94-2.06-.94L8.5 2.5l-.94 2.06-2.06.94zm10 10l.94 2.06.94-2.06 2.06-.94-2.06-.94-.94-2.06-.94 2.06-2.06.94z\"/><path d=\"M17.41 7.96l-1.37-1.37c-.4-.4-.92-.59-1.43-.59-.52 0-1.04.2-1.43.59L10.3 9.45l-7.72 7.72c-.78.78-.78 2.05 0 2.83L4 21.41c.39.39.9.59 1.41.59.51 0 1.02-.2 1.41-.59l7.78-7.78 2.81-2.81c.8-.78.8-2.07 0-2.86zM5.41 20L4 18.59l7.72-7.72 1.47 1.35L5.41 20z\"/>\n",
              "  </svg>\n",
              "      </button>\n",
              "      \n",
              "  <style>\n",
              "    .colab-df-container {\n",
              "      display:flex;\n",
              "      flex-wrap:wrap;\n",
              "      gap: 12px;\n",
              "    }\n",
              "\n",
              "    .colab-df-convert {\n",
              "      background-color: #E8F0FE;\n",
              "      border: none;\n",
              "      border-radius: 50%;\n",
              "      cursor: pointer;\n",
              "      display: none;\n",
              "      fill: #1967D2;\n",
              "      height: 32px;\n",
              "      padding: 0 0 0 0;\n",
              "      width: 32px;\n",
              "    }\n",
              "\n",
              "    .colab-df-convert:hover {\n",
              "      background-color: #E2EBFA;\n",
              "      box-shadow: 0px 1px 2px rgba(60, 64, 67, 0.3), 0px 1px 3px 1px rgba(60, 64, 67, 0.15);\n",
              "      fill: #174EA6;\n",
              "    }\n",
              "\n",
              "    [theme=dark] .colab-df-convert {\n",
              "      background-color: #3B4455;\n",
              "      fill: #D2E3FC;\n",
              "    }\n",
              "\n",
              "    [theme=dark] .colab-df-convert:hover {\n",
              "      background-color: #434B5C;\n",
              "      box-shadow: 0px 1px 3px 1px rgba(0, 0, 0, 0.15);\n",
              "      filter: drop-shadow(0px 1px 2px rgba(0, 0, 0, 0.3));\n",
              "      fill: #FFFFFF;\n",
              "    }\n",
              "  </style>\n",
              "\n",
              "      <script>\n",
              "        const buttonEl =\n",
              "          document.querySelector('#df-7f0a326f-88f6-47f7-b5d3-0f77656f0a58 button.colab-df-convert');\n",
              "        buttonEl.style.display =\n",
              "          google.colab.kernel.accessAllowed ? 'block' : 'none';\n",
              "\n",
              "        async function convertToInteractive(key) {\n",
              "          const element = document.querySelector('#df-7f0a326f-88f6-47f7-b5d3-0f77656f0a58');\n",
              "          const dataTable =\n",
              "            await google.colab.kernel.invokeFunction('convertToInteractive',\n",
              "                                                     [key], {});\n",
              "          if (!dataTable) return;\n",
              "\n",
              "          const docLinkHtml = 'Like what you see? Visit the ' +\n",
              "            '<a target=\"_blank\" href=https://colab.research.google.com/notebooks/data_table.ipynb>data table notebook</a>'\n",
              "            + ' to learn more about interactive tables.';\n",
              "          element.innerHTML = '';\n",
              "          dataTable['output_type'] = 'display_data';\n",
              "          await google.colab.output.renderOutput(dataTable, element);\n",
              "          const docLink = document.createElement('div');\n",
              "          docLink.innerHTML = docLinkHtml;\n",
              "          element.appendChild(docLink);\n",
              "        }\n",
              "      </script>\n",
              "    </div>\n",
              "  </div>\n",
              "  "
            ],
            "text/plain": [
              "               Price       Mileage  ...           tax        cylvol\n",
              "count   19189.000000  1.918900e+04  ...  19189.000000  19189.000000\n",
              "mean    16986.917088  1.423955e+06  ...    633.400177      0.501142\n",
              "std     17371.017582  4.592145e+07  ...    566.874427      0.133093\n",
              "min         1.000000  0.000000e+00  ...      0.000000      0.033333\n",
              "25%      5331.000000  7.033600e+04  ...      0.000000      0.416667\n",
              "50%     13172.000000  1.261170e+05  ...    642.000000      0.500000\n",
              "75%     22000.000000  1.890000e+05  ...    917.000000      0.583333\n",
              "max    194438.000000  2.147484e+09  ...  11714.000000      6.300000\n",
              "\n",
              "[8 rows x 9 columns]"
            ]
          },
          "metadata": {},
          "execution_count": 28
        }
      ],
      "source": [
        "cars_mod.describe()"
      ],
      "id": "86s3wv_YFwYr"
    },
    {
      "cell_type": "code",
      "execution_count": null,
      "metadata": {
        "scrolled": false,
        "id": "SCY80890FwYs",
        "colab": {
          "base_uri": "https://localhost:8080/",
          "height": 1000
        },
        "outputId": "d9455d21-1c70-4736-c32c-01fd5eb09173"
      },
      "outputs": [
        {
          "output_type": "stream",
          "name": "stderr",
          "text": [
            "/usr/local/lib/python3.7/dist-packages/seaborn/_decorators.py:43: FutureWarning: Pass the following variable as a keyword arg: x. From version 0.12, the only valid positional argument will be `data`, and passing other arguments without an explicit keyword will result in an error or misinterpretation.\n",
            "  FutureWarning\n"
          ]
        },
        {
          "output_type": "display_data",
          "data": {
            "image/png": "[encoded data removed]",
            "text/plain": [
              "<Figure size 864x576 with 1 Axes>"
            ]
          },
          "metadata": {
            "needs_background": "light"
          }
        },
        {
          "output_type": "stream",
          "name": "stderr",
          "text": [
            "/usr/local/lib/python3.7/dist-packages/seaborn/_decorators.py:43: FutureWarning: Pass the following variable as a keyword arg: x. From version 0.12, the only valid positional argument will be `data`, and passing other arguments without an explicit keyword will result in an error or misinterpretation.\n",
            "  FutureWarning\n"
          ]
        },
        {
          "output_type": "display_data",
          "data": {
            "image/png": "[encoded data removed]",
            "text/plain": [
              "<Figure size 864x576 with 1 Axes>"
            ]
          },
          "metadata": {
            "needs_background": "light"
          }
        },
        {
          "output_type": "stream",
          "name": "stderr",
          "text": [
            "/usr/local/lib/python3.7/dist-packages/seaborn/_decorators.py:43: FutureWarning: Pass the following variable as a keyword arg: x. From version 0.12, the only valid positional argument will be `data`, and passing other arguments without an explicit keyword will result in an error or misinterpretation.\n",
            "  FutureWarning\n"
          ]
        },
        {
          "output_type": "display_data",
          "data": {
            "image/png": "[encoded data removed]",
            "text/plain": [
              "<Figure size 864x576 with 1 Axes>"
            ]
          },
          "metadata": {
            "needs_background": "light"
          }
        },
        {
          "output_type": "stream",
          "name": "stderr",
          "text": [
            "/usr/local/lib/python3.7/dist-packages/seaborn/_decorators.py:43: FutureWarning: Pass the following variable as a keyword arg: x. From version 0.12, the only valid positional argument will be `data`, and passing other arguments without an explicit keyword will result in an error or misinterpretation.\n",
            "  FutureWarning\n"
          ]
        },
        {
          "output_type": "display_data",
          "data": {
            "image/png": "[encoded data removed]",
            "text/plain": [
              "<Figure size 864x576 with 1 Axes>"
            ]
          },
          "metadata": {
            "needs_background": "light"
          }
        },
        {
          "output_type": "stream",
          "name": "stderr",
          "text": [
            "/usr/local/lib/python3.7/dist-packages/seaborn/_decorators.py:43: FutureWarning: Pass the following variable as a keyword arg: x. From version 0.12, the only valid positional argument will be `data`, and passing other arguments without an explicit keyword will result in an error or misinterpretation.\n",
            "  FutureWarning\n"
          ]
        },
        {
          "output_type": "display_data",
          "data": {
            "image/png": "[encoded data removed]",
            "text/plain": [
              "<Figure size 864x576 with 1 Axes>"
            ]
          },
          "metadata": {
            "needs_background": "light"
          }
        },
        {
          "output_type": "stream",
          "name": "stderr",
          "text": [
            "/usr/local/lib/python3.7/dist-packages/seaborn/_decorators.py:43: FutureWarning: Pass the following variable as a keyword arg: x. From version 0.12, the only valid positional argument will be `data`, and passing other arguments without an explicit keyword will result in an error or misinterpretation.\n",
            "  FutureWarning\n"
          ]
        },
        {
          "output_type": "display_data",
          "data": {
            "image/png": "[encoded data removed]",
            "text/plain": [
              "<Figure size 864x576 with 1 Axes>"
            ]
          },
          "metadata": {
            "needs_background": "light"
          }
        },
        {
          "output_type": "stream",
          "name": "stderr",
          "text": [
            "/usr/local/lib/python3.7/dist-packages/seaborn/_decorators.py:43: FutureWarning: Pass the following variable as a keyword arg: x. From version 0.12, the only valid positional argument will be `data`, and passing other arguments without an explicit keyword will result in an error or misinterpretation.\n",
            "  FutureWarning\n"
          ]
        },
        {
          "output_type": "display_data",
          "data": {
            "image/png": "[encoded data removed]",
            "text/plain": [
              "<Figure size 864x576 with 1 Axes>"
            ]
          },
          "metadata": {
            "needs_background": "light"
          }
        },
        {
          "output_type": "stream",
          "name": "stderr",
          "text": [
            "/usr/local/lib/python3.7/dist-packages/seaborn/_decorators.py:43: FutureWarning: Pass the following variable as a keyword arg: x. From version 0.12, the only valid positional argument will be `data`, and passing other arguments without an explicit keyword will result in an error or misinterpretation.\n",
            "  FutureWarning\n"
          ]
        },
        {
          "output_type": "display_data",
          "data": {
            "image/png": "[encoded data removed]",
            "text/plain": [
              "<Figure size 864x576 with 1 Axes>"
            ]
          },
          "metadata": {
            "needs_background": "light"
          }
        },
        {
          "output_type": "stream",
          "name": "stderr",
          "text": [
            "/usr/local/lib/python3.7/dist-packages/seaborn/_decorators.py:43: FutureWarning: Pass the following variable as a keyword arg: x. From version 0.12, the only valid positional argument will be `data`, and passing other arguments without an explicit keyword will result in an error or misinterpretation.\n",
            "  FutureWarning\n"
          ]
        },
        {
          "output_type": "display_data",
          "data": {
            "image/png": "[encoded data removed]",
            "text/plain": [
              "<Figure size 864x576 with 1 Axes>"
            ]
          },
          "metadata": {
            "needs_background": "light"
          }
        }
      ],
      "source": [
        "for i in range (cars_mod.shape[1]):\n",
        "    plt.figure(figsize=(12,8))\n",
        "    sns.boxplot(cars_mod.iloc[:,i])\n",
        "    plt.show()"
      ],
      "id": "SCY80890FwYs"
    },
    {
      "cell_type": "code",
      "execution_count": null,
      "metadata": {
        "id": "sF4ozSSsFwYs",
        "colab": {
          "base_uri": "https://localhost:8080/",
          "height": 423
        },
        "outputId": "8a3faf90-6ac9-4548-bce1-d39b412d5921"
      },
      "outputs": [
        {
          "output_type": "execute_result",
          "data": {
            "text/html": [
              "\n",
              "  <div id=\"df-ad21af7e-7c07-4dfd-a3a4-aba6c9cc5085\">\n",
              "    <div class=\"colab-df-container\">\n",
              "      <div>\n",
              "<style scoped>\n",
              "    .dataframe tbody tr th:only-of-type {\n",
              "        vertical-align: middle;\n",
              "    }\n",
              "\n",
              "    .dataframe tbody tr th {\n",
              "        vertical-align: top;\n",
              "    }\n",
              "\n",
              "    .dataframe thead th {\n",
              "        text-align: right;\n",
              "    }\n",
              "</style>\n",
              "<table border=\"1\" class=\"dataframe\">\n",
              "  <thead>\n",
              "    <tr style=\"text-align: right;\">\n",
              "      <th></th>\n",
              "      <th>Price</th>\n",
              "      <th>Mileage</th>\n",
              "      <th>car_age</th>\n",
              "      <th>Engine volume</th>\n",
              "      <th>Turbo</th>\n",
              "      <th>Cylinders</th>\n",
              "      <th>Airbags</th>\n",
              "      <th>tax</th>\n",
              "      <th>cylvol</th>\n",
              "    </tr>\n",
              "  </thead>\n",
              "  <tbody>\n",
              "    <tr>\n",
              "      <th>0</th>\n",
              "      <td>13328</td>\n",
              "      <td>186005.0</td>\n",
              "      <td>12</td>\n",
              "      <td>3.5</td>\n",
              "      <td>0</td>\n",
              "      <td>6.0</td>\n",
              "      <td>12</td>\n",
              "      <td>1399.0</td>\n",
              "      <td>0.583333</td>\n",
              "    </tr>\n",
              "    <tr>\n",
              "      <th>1</th>\n",
              "      <td>16621</td>\n",
              "      <td>192000.0</td>\n",
              "      <td>11</td>\n",
              "      <td>3.0</td>\n",
              "      <td>0</td>\n",
              "      <td>6.0</td>\n",
              "      <td>8</td>\n",
              "      <td>1018.0</td>\n",
              "      <td>0.500000</td>\n",
              "    </tr>\n",
              "    <tr>\n",
              "      <th>2</th>\n",
              "      <td>8467</td>\n",
              "      <td>200000.0</td>\n",
              "      <td>16</td>\n",
              "      <td>1.3</td>\n",
              "      <td>0</td>\n",
              "      <td>4.0</td>\n",
              "      <td>2</td>\n",
              "      <td>0.0</td>\n",
              "      <td>0.325000</td>\n",
              "    </tr>\n",
              "    <tr>\n",
              "      <th>3</th>\n",
              "      <td>3607</td>\n",
              "      <td>168966.0</td>\n",
              "      <td>11</td>\n",
              "      <td>2.5</td>\n",
              "      <td>0</td>\n",
              "      <td>4.0</td>\n",
              "      <td>0</td>\n",
              "      <td>862.0</td>\n",
              "      <td>0.625000</td>\n",
              "    </tr>\n",
              "    <tr>\n",
              "      <th>4</th>\n",
              "      <td>11726</td>\n",
              "      <td>91901.0</td>\n",
              "      <td>8</td>\n",
              "      <td>1.3</td>\n",
              "      <td>0</td>\n",
              "      <td>4.0</td>\n",
              "      <td>4</td>\n",
              "      <td>446.0</td>\n",
              "      <td>0.325000</td>\n",
              "    </tr>\n",
              "    <tr>\n",
              "      <th>...</th>\n",
              "      <td>...</td>\n",
              "      <td>...</td>\n",
              "      <td>...</td>\n",
              "      <td>...</td>\n",
              "      <td>...</td>\n",
              "      <td>...</td>\n",
              "      <td>...</td>\n",
              "      <td>...</td>\n",
              "      <td>...</td>\n",
              "    </tr>\n",
              "    <tr>\n",
              "      <th>19232</th>\n",
              "      <td>8467</td>\n",
              "      <td>300000.0</td>\n",
              "      <td>23</td>\n",
              "      <td>2.0</td>\n",
              "      <td>1</td>\n",
              "      <td>4.0</td>\n",
              "      <td>5</td>\n",
              "      <td>0.0</td>\n",
              "      <td>0.500000</td>\n",
              "    </tr>\n",
              "    <tr>\n",
              "      <th>19233</th>\n",
              "      <td>15681</td>\n",
              "      <td>161600.0</td>\n",
              "      <td>11</td>\n",
              "      <td>2.4</td>\n",
              "      <td>0</td>\n",
              "      <td>4.0</td>\n",
              "      <td>8</td>\n",
              "      <td>831.0</td>\n",
              "      <td>0.600000</td>\n",
              "    </tr>\n",
              "    <tr>\n",
              "      <th>19234</th>\n",
              "      <td>26108</td>\n",
              "      <td>116365.0</td>\n",
              "      <td>12</td>\n",
              "      <td>2.0</td>\n",
              "      <td>0</td>\n",
              "      <td>4.0</td>\n",
              "      <td>4</td>\n",
              "      <td>836.0</td>\n",
              "      <td>0.500000</td>\n",
              "    </tr>\n",
              "    <tr>\n",
              "      <th>19235</th>\n",
              "      <td>5331</td>\n",
              "      <td>51258.0</td>\n",
              "      <td>15</td>\n",
              "      <td>2.0</td>\n",
              "      <td>0</td>\n",
              "      <td>4.0</td>\n",
              "      <td>4</td>\n",
              "      <td>1288.0</td>\n",
              "      <td>0.500000</td>\n",
              "    </tr>\n",
              "    <tr>\n",
              "      <th>19236</th>\n",
              "      <td>470</td>\n",
              "      <td>186923.0</td>\n",
              "      <td>10</td>\n",
              "      <td>2.4</td>\n",
              "      <td>0</td>\n",
              "      <td>4.0</td>\n",
              "      <td>12</td>\n",
              "      <td>753.0</td>\n",
              "      <td>0.600000</td>\n",
              "    </tr>\n",
              "  </tbody>\n",
              "</table>\n",
              "<p>19189 rows × 9 columns</p>\n",
              "</div>\n",
              "      <button class=\"colab-df-convert\" onclick=\"convertToInteractive('df-ad21af7e-7c07-4dfd-a3a4-aba6c9cc5085')\"\n",
              "              title=\"Convert this dataframe to an interactive table.\"\n",
              "              style=\"display:none;\">\n",
              "        \n",
              "  <svg xmlns=\"http://www.w3.org/2000/svg\" height=\"24px\"viewBox=\"0 0 24 24\"\n",
              "       width=\"24px\">\n",
              "    <path d=\"M0 0h24v24H0V0z\" fill=\"none\"/>\n",
              "    <path d=\"M18.56 5.44l.94 2.06.94-2.06 2.06-.94-2.06-.94-.94-2.06-.94 2.06-2.06.94zm-11 1L8.5 8.5l.94-2.06 2.06-.94-2.06-.94L8.5 2.5l-.94 2.06-2.06.94zm10 10l.94 2.06.94-2.06 2.06-.94-2.06-.94-.94-2.06-.94 2.06-2.06.94z\"/><path d=\"M17.41 7.96l-1.37-1.37c-.4-.4-.92-.59-1.43-.59-.52 0-1.04.2-1.43.59L10.3 9.45l-7.72 7.72c-.78.78-.78 2.05 0 2.83L4 21.41c.39.39.9.59 1.41.59.51 0 1.02-.2 1.41-.59l7.78-7.78 2.81-2.81c.8-.78.8-2.07 0-2.86zM5.41 20L4 18.59l7.72-7.72 1.47 1.35L5.41 20z\"/>\n",
              "  </svg>\n",
              "      </button>\n",
              "      \n",
              "  <style>\n",
              "    .colab-df-container {\n",
              "      display:flex;\n",
              "      flex-wrap:wrap;\n",
              "      gap: 12px;\n",
              "    }\n",
              "\n",
              "    .colab-df-convert {\n",
              "      background-color: #E8F0FE;\n",
              "      border: none;\n",
              "      border-radius: 50%;\n",
              "      cursor: pointer;\n",
              "      display: none;\n",
              "      fill: #1967D2;\n",
              "      height: 32px;\n",
              "      padding: 0 0 0 0;\n",
              "      width: 32px;\n",
              "    }\n",
              "\n",
              "    .colab-df-convert:hover {\n",
              "      background-color: #E2EBFA;\n",
              "      box-shadow: 0px 1px 2px rgba(60, 64, 67, 0.3), 0px 1px 3px 1px rgba(60, 64, 67, 0.15);\n",
              "      fill: #174EA6;\n",
              "    }\n",
              "\n",
              "    [theme=dark] .colab-df-convert {\n",
              "      background-color: #3B4455;\n",
              "      fill: #D2E3FC;\n",
              "    }\n",
              "\n",
              "    [theme=dark] .colab-df-convert:hover {\n",
              "      background-color: #434B5C;\n",
              "      box-shadow: 0px 1px 3px 1px rgba(0, 0, 0, 0.15);\n",
              "      filter: drop-shadow(0px 1px 2px rgba(0, 0, 0, 0.3));\n",
              "      fill: #FFFFFF;\n",
              "    }\n",
              "  </style>\n",
              "\n",
              "      <script>\n",
              "        const buttonEl =\n",
              "          document.querySelector('#df-ad21af7e-7c07-4dfd-a3a4-aba6c9cc5085 button.colab-df-convert');\n",
              "        buttonEl.style.display =\n",
              "          google.colab.kernel.accessAllowed ? 'block' : 'none';\n",
              "\n",
              "        async function convertToInteractive(key) {\n",
              "          const element = document.querySelector('#df-ad21af7e-7c07-4dfd-a3a4-aba6c9cc5085');\n",
              "          const dataTable =\n",
              "            await google.colab.kernel.invokeFunction('convertToInteractive',\n",
              "                                                     [key], {});\n",
              "          if (!dataTable) return;\n",
              "\n",
              "          const docLinkHtml = 'Like what you see? Visit the ' +\n",
              "            '<a target=\"_blank\" href=https://colab.research.google.com/notebooks/data_table.ipynb>data table notebook</a>'\n",
              "            + ' to learn more about interactive tables.';\n",
              "          element.innerHTML = '';\n",
              "          dataTable['output_type'] = 'display_data';\n",
              "          await google.colab.output.renderOutput(dataTable, element);\n",
              "          const docLink = document.createElement('div');\n",
              "          docLink.innerHTML = docLinkHtml;\n",
              "          element.appendChild(docLink);\n",
              "        }\n",
              "      </script>\n",
              "    </div>\n",
              "  </div>\n",
              "  "
            ],
            "text/plain": [
              "       Price   Mileage  car_age  ...  Airbags     tax    cylvol\n",
              "0      13328  186005.0       12  ...       12  1399.0  0.583333\n",
              "1      16621  192000.0       11  ...        8  1018.0  0.500000\n",
              "2       8467  200000.0       16  ...        2     0.0  0.325000\n",
              "3       3607  168966.0       11  ...        0   862.0  0.625000\n",
              "4      11726   91901.0        8  ...        4   446.0  0.325000\n",
              "...      ...       ...      ...  ...      ...     ...       ...\n",
              "19232   8467  300000.0       23  ...        5     0.0  0.500000\n",
              "19233  15681  161600.0       11  ...        8   831.0  0.600000\n",
              "19234  26108  116365.0       12  ...        4   836.0  0.500000\n",
              "19235   5331   51258.0       15  ...        4  1288.0  0.500000\n",
              "19236    470  186923.0       10  ...       12   753.0  0.600000\n",
              "\n",
              "[19189 rows x 9 columns]"
            ]
          },
          "metadata": {},
          "execution_count": 30
        }
      ],
      "source": [
        "cars_mod"
      ],
      "id": "sF4ozSSsFwYs"
    },
    {
      "cell_type": "code",
      "execution_count": null,
      "metadata": {
        "id": "KmhGmVQ_FwYs",
        "colab": {
          "base_uri": "https://localhost:8080/"
        },
        "outputId": "e7485d4f-761d-4928-b0c4-3387872cef09"
      },
      "outputs": [
        {
          "output_type": "execute_result",
          "data": {
            "text/plain": [
              "Index(['index', 'Price', 'Levy', 'Manufacturer', 'Model', 'Prod. year',\n",
              "       'Category', 'Leather interior', 'Fuel type', 'Engine volume', 'Mileage',\n",
              "       'Cylinders', 'Gear box type', 'Drive wheels', 'Doors', 'Wheel', 'Color',\n",
              "       'Airbags', 'turbo'],\n",
              "      dtype='object')"
            ]
          },
          "metadata": {},
          "execution_count": 31
        }
      ],
      "source": [
        "cars_org.columns"
      ],
      "id": "KmhGmVQ_FwYs"
    },
    {
      "cell_type": "code",
      "execution_count": null,
      "metadata": {
        "id": "ZRlEf6sMFwYs"
      },
      "outputs": [],
      "source": [
        "or_encoder = OrdinalEncoder()\n",
        "cat_features=['Manufacturer','Leather interior', 'Fuel type', 'Gear box type', 'Drive wheels', 'Doors', 'Wheel', 'Color']"
      ],
      "id": "ZRlEf6sMFwYs"
    },
    {
      "cell_type": "code",
      "execution_count": null,
      "metadata": {
        "id": "xZvENqKrFwYt"
      },
      "outputs": [],
      "source": [
        "cars_mod[cat_features]=or_encoder.fit_transform(cars_org[cat_features])"
      ],
      "id": "xZvENqKrFwYt"
    },
    {
      "cell_type": "code",
      "execution_count": null,
      "metadata": {
        "id": "Qko40UCKFwYt",
        "colab": {
          "base_uri": "https://localhost:8080/"
        },
        "outputId": "33aea1c8-49d0-4546-f60e-5c4db8a1f93e"
      },
      "outputs": [
        {
          "output_type": "execute_result",
          "data": {
            "text/plain": [
              "Price               1.000000\n",
              "Manufacturer       -0.078303\n",
              "Leather interior    0.128272\n",
              "Fuel type          -0.038688\n",
              "Gear box type       0.122281\n",
              "Drive wheels       -0.037206\n",
              "Doors               0.025712\n",
              "Wheel              -0.134782\n",
              "Color              -0.015451\n",
              "Name: Price, dtype: float64"
            ]
          },
          "metadata": {},
          "execution_count": 34
        }
      ],
      "source": [
        "value=[target]+cat_features\n",
        "corr_matrix=cars_mod[value].corr()\n",
        "corr_matrix['Price']"
      ],
      "id": "Qko40UCKFwYt"
    },
    {
      "cell_type": "markdown",
      "metadata": {
        "id": "W1D9fLIVFwYt"
      },
      "source": [
        "# Modelling"
      ],
      "id": "W1D9fLIVFwYt"
    },
    {
      "cell_type": "markdown",
      "source": [
        "# 1.Linear regression - *dummy* model"
      ],
      "metadata": {
        "id": "3e80uVKZv6yy"
      },
      "id": "3e80uVKZv6yy"
    },
    {
      "cell_type": "code",
      "execution_count": null,
      "metadata": {
        "scrolled": true,
        "id": "JsKbKY_RFwYu"
      },
      "outputs": [],
      "source": [
        "features=num_features\n",
        "data_set=cars_mod[num_features]\n",
        "X=data_set\n",
        "y=cars_mod[target]"
      ],
      "id": "JsKbKY_RFwYu"
    },
    {
      "cell_type": "code",
      "execution_count": null,
      "metadata": {
        "id": "eTUMCdU_FwYu"
      },
      "outputs": [],
      "source": [
        "X_train, X_test, y_train, y_test = train_test_split(X, y, test_size=0.2, random_state=60222)"
      ],
      "id": "eTUMCdU_FwYu"
    },
    {
      "cell_type": "code",
      "execution_count": null,
      "metadata": {
        "id": "Hvt11gJVFwYu",
        "colab": {
          "base_uri": "https://localhost:8080/"
        },
        "outputId": "ee465aca-6a7c-4ff9-e84b-6b655a8fc05e"
      },
      "outputs": [
        {
          "output_type": "execute_result",
          "data": {
            "text/plain": [
              "LinearRegression()"
            ]
          },
          "metadata": {},
          "execution_count": 39
        }
      ],
      "source": [
        "lin_reg_model=LinearRegression()\n",
        "lin_reg_model.fit(X_train, y_train)"
      ],
      "id": "Hvt11gJVFwYu"
    },
    {
      "cell_type": "code",
      "execution_count": null,
      "metadata": {
        "id": "20qQX9beFwYu"
      },
      "outputs": [],
      "source": [
        "y_predict_test=lin_reg_model.predict(X_test)"
      ],
      "id": "20qQX9beFwYu"
    },
    {
      "cell_type": "code",
      "execution_count": null,
      "metadata": {
        "id": "mlRSbtk6FwYv",
        "colab": {
          "base_uri": "https://localhost:8080/"
        },
        "outputId": "d97dcb76-130e-47eb-b29f-ee52f03e110b"
      },
      "outputs": [
        {
          "output_type": "stream",
          "name": "stdout",
          "text": [
            "RMSE=15945.23614863465\n"
          ]
        }
      ],
      "source": [
        "err=np.sqrt(mean_squared_error(y_test, y_predict_test))\n",
        "print(f'RMSE={err}')"
      ],
      "id": "mlRSbtk6FwYv"
    },
    {
      "cell_type": "code",
      "execution_count": null,
      "metadata": {
        "id": "Bj8wCBtzFwYv"
      },
      "outputs": [],
      "source": [
        "features=num_features\n",
        "data_set=cars_mod[num_features]\n",
        "X=data_set\n",
        "y=cars_mod[target]"
      ],
      "id": "Bj8wCBtzFwYv"
    },
    {
      "cell_type": "code",
      "execution_count": null,
      "metadata": {
        "id": "B80VrOqCFwYv",
        "colab": {
          "base_uri": "https://localhost:8080/"
        },
        "outputId": "20bb02b5-32ea-4191-9c11-ca93daa418d2"
      },
      "outputs": [
        {
          "output_type": "execute_result",
          "data": {
            "text/plain": [
              "((15351, 7), (3838, 7), (15351,), (3838,))"
            ]
          },
          "metadata": {},
          "execution_count": 43
        }
      ],
      "source": [
        "X_train, X_test, y_train, y_test = train_test_split(X, y, test_size=0.2, random_state=60222)\n",
        "X_train.shape, X_test.shape, y_train.shape, y_test.shape"
      ],
      "id": "B80VrOqCFwYv"
    },
    {
      "cell_type": "code",
      "execution_count": null,
      "metadata": {
        "id": "-uVZaX-KFwYv"
      },
      "outputs": [],
      "source": [
        "scaler=StandardScaler()"
      ],
      "id": "-uVZaX-KFwYv"
    },
    {
      "cell_type": "code",
      "execution_count": null,
      "metadata": {
        "id": "MAHP4oiQFwYw",
        "colab": {
          "base_uri": "https://localhost:8080/"
        },
        "outputId": "3cddf63e-8c4f-4f3a-d2c3-f4091ffb238f"
      },
      "outputs": [
        {
          "output_type": "execute_result",
          "data": {
            "text/plain": [
              "LinearRegression()"
            ]
          },
          "metadata": {},
          "execution_count": 45
        }
      ],
      "source": [
        "X_train_mod=X_train[features]\n",
        "X_test_mod=X_test[features]\n",
        "y_train_mod=y_train\n",
        "y_test_mod=y_test\n",
        "X_train_mod=scaler.fit_transform(X_train_mod)\n",
        "X_test_mod=scaler.transform(X_test_mod)\n",
        "lin_reg_model.fit(X_train_mod, y_train_mod)"
      ],
      "id": "MAHP4oiQFwYw"
    },
    {
      "cell_type": "code",
      "execution_count": null,
      "metadata": {
        "id": "4TVFgqMVFwYw",
        "colab": {
          "base_uri": "https://localhost:8080/"
        },
        "outputId": "518ee66e-f733-4105-a9f5-8ea20083280b"
      },
      "outputs": [
        {
          "output_type": "execute_result",
          "data": {
            "text/plain": [
              "((3838,), (3838, 7))"
            ]
          },
          "metadata": {},
          "execution_count": 46
        }
      ],
      "source": [
        "y_test_mod.shape,X_test_mod.shape"
      ],
      "id": "4TVFgqMVFwYw"
    },
    {
      "cell_type": "code",
      "execution_count": null,
      "metadata": {
        "id": "YPzBr1SPFwYw",
        "colab": {
          "base_uri": "https://localhost:8080/"
        },
        "outputId": "c690b008-842f-4f8c-b61b-3c40dd41220f"
      },
      "outputs": [
        {
          "output_type": "execute_result",
          "data": {
            "text/plain": [
              "array([12228.5045714 , 20240.7611251 , 20255.58380457, ...,\n",
              "       20646.71743002, 21524.00314222, 16856.27395202])"
            ]
          },
          "metadata": {},
          "execution_count": 47
        }
      ],
      "source": [
        "y_predict_test_2=lin_reg_model.predict(X_test_mod)\n",
        "y_predict_test_2"
      ],
      "id": "YPzBr1SPFwYw"
    },
    {
      "cell_type": "code",
      "execution_count": null,
      "metadata": {
        "id": "HAQhMuCAFwYx",
        "colab": {
          "base_uri": "https://localhost:8080/"
        },
        "outputId": "0e7a2e5f-be18-4eeb-80ab-f99f0793d727"
      },
      "outputs": [
        {
          "output_type": "stream",
          "name": "stdout",
          "text": [
            "RMSE=15945.236148634653\n"
          ]
        }
      ],
      "source": [
        "err=np.sqrt(mean_squared_error(y_test_mod, y_predict_test_2))\n",
        "print(f'RMSE={err}')"
      ],
      "id": "HAQhMuCAFwYx"
    },
    {
      "cell_type": "markdown",
      "source": [
        "# 2. Decision Tree Regresssor - basic version"
      ],
      "metadata": {
        "id": "vRwRKzRbxDS3"
      },
      "id": "vRwRKzRbxDS3"
    },
    {
      "cell_type": "code",
      "execution_count": null,
      "metadata": {
        "id": "z_X2ExHSFwYx",
        "colab": {
          "base_uri": "https://localhost:8080/"
        },
        "outputId": "07662291-65bc-466a-8af2-a0b236af199f"
      },
      "outputs": [
        {
          "output_type": "stream",
          "name": "stdout",
          "text": [
            "RMSE=12751.164692657801\n"
          ]
        }
      ],
      "source": [
        "tree_model=DecisionTreeRegressor()\n",
        "tree_model.fit(X_train, y_train)\n",
        "y_pred_tree=tree_model.predict(X_test)\n",
        "err2=np.sqrt(mean_squared_error(y_test, y_pred_tree))\n",
        "print(f'RMSE={err2}')"
      ],
      "id": "z_X2ExHSFwYx"
    },
    {
      "cell_type": "code",
      "execution_count": null,
      "metadata": {
        "id": "tYVBYr1WFwYx"
      },
      "outputs": [],
      "source": [
        "features=num_features\n",
        "data_set=cars_mod[num_features]\n",
        "X=data_set\n",
        "y=cars_mod[target]"
      ],
      "id": "tYVBYr1WFwYx"
    },
    {
      "cell_type": "code",
      "execution_count": null,
      "metadata": {
        "id": "w5h45fhmFwYx"
      },
      "outputs": [],
      "source": [
        "X_train, X_test, y_train, y_test = train_test_split(X, y, test_size=0.2, random_state=60222)"
      ],
      "id": "w5h45fhmFwYx"
    },
    {
      "cell_type": "code",
      "execution_count": null,
      "metadata": {
        "id": "28TYk6aVFwYy"
      },
      "outputs": [],
      "source": [
        "n_max_depth=np.linspace(4,20,17)\n",
        "n_min_samples_split=np.linspace(2,50,49).astype('int').astype('int')"
      ],
      "id": "28TYk6aVFwYy"
    },
    {
      "cell_type": "code",
      "execution_count": null,
      "metadata": {
        "id": "ojByHZwgFwYy",
        "colab": {
          "base_uri": "https://localhost:8080/"
        },
        "outputId": "a69eca8f-91ee-446c-e51a-8bebae0923bf"
      },
      "outputs": [
        {
          "output_type": "stream",
          "name": "stdout",
          "text": [
            "Fitting 10 folds for each of 833 candidates, totalling 8330 fits\n"
          ]
        },
        {
          "output_type": "execute_result",
          "data": {
            "text/plain": [
              "GridSearchCV(cv=10, estimator=DecisionTreeRegressor(), n_jobs=-1,\n",
              "             param_grid={'max_depth': [4.0, 5.0, 6.0, 7.0, 8.0, 9.0, 10.0, 11.0,\n",
              "                                       12.0, 13.0, 14.0, 15.0, 16.0, 17.0, 18.0,\n",
              "                                       19.0, 20.0],\n",
              "                         'min_samples_split': [2, 3, 4, 5, 6, 7, 8, 9, 10, 11,\n",
              "                                               12, 13, 14, 15, 16, 17, 18, 19,\n",
              "                                               20, 21, 22, 23, 24, 25, 26, 27,\n",
              "                                               28, 29, 30, 31, ...]},\n",
              "             scoring='neg_mean_squared_error', verbose=1)"
            ]
          },
          "metadata": {},
          "execution_count": 54
        }
      ],
      "source": [
        "modelling = DecisionTreeRegressor()\n",
        "\n",
        "params = {'max_depth': list(n_max_depth),\n",
        "          'min_samples_split':list(n_min_samples_split)}\n",
        "\n",
        "tree_gridsearch = GridSearchCV(modelling, \n",
        "                                                params,\n",
        "                                                scoring='neg_mean_squared_error',\n",
        "                                                cv=10,\n",
        "                                                verbose=1,\n",
        "                                                n_jobs=-1)\n",
        "\n",
        "tree_gridsearch.fit(X_train, y_train)"
      ],
      "id": "ojByHZwgFwYy"
    },
    {
      "cell_type": "code",
      "source": [
        "print('\\nBest hyperparameter:', tree_gridsearch.best_params_)"
      ],
      "metadata": {
        "colab": {
          "base_uri": "https://localhost:8080/"
        },
        "id": "WyPVX2KQeP3M",
        "outputId": "3ad4bbf0-1fc4-476c-f6ac-77066efe8d3a"
      },
      "id": "WyPVX2KQeP3M",
      "execution_count": null,
      "outputs": [
        {
          "output_type": "stream",
          "name": "stdout",
          "text": [
            "\n",
            "Best hyperparameter: {'max_depth': 13.0, 'min_samples_split': 33}\n"
          ]
        }
      ]
    },
    {
      "cell_type": "code",
      "execution_count": null,
      "metadata": {
        "id": "oeeJaQUXFwYy",
        "colab": {
          "base_uri": "https://localhost:8080/"
        },
        "outputId": "f13f552f-b192-4e51-c92d-1c67710332e2"
      },
      "outputs": [
        {
          "output_type": "stream",
          "name": "stdout",
          "text": [
            "RMSE=10607.49\n"
          ]
        }
      ],
      "source": [
        "tree_model=DecisionTreeRegressor(max_depth=13, min_samples_split= 33)\n",
        "tree_model.fit(X_train, y_train)\n",
        "y_pred_tree=tree_model.predict(X_test)\n",
        "err2=np.round(np.sqrt(mean_squared_error(y_test, y_pred_tree)),2)\n",
        "print(f'RMSE={err2}')"
      ],
      "id": "oeeJaQUXFwYy"
    },
    {
      "cell_type": "code",
      "execution_count": null,
      "metadata": {
        "id": "shV_apQbFwYy",
        "colab": {
          "base_uri": "https://localhost:8080/",
          "height": 279
        },
        "outputId": "84c5d4c0-2f2f-41ec-ca69-8ee9be72800c"
      },
      "outputs": [
        {
          "output_type": "display_data",
          "data": {
            "image/png": "[encoded data removed]",
            "text/plain": [
              "<Figure size 432x288 with 1 Axes>"
            ]
          },
          "metadata": {
            "needs_background": "light"
          }
        }
      ],
      "source": [
        "#plot\n",
        "errors1 = y_predict_test - y_test\n",
        "errors2 = y_pred_tree - y_test\n",
        "plt.scatter(y_test, errors2, color='k',alpha =0.3)\n",
        "plt.scatter(y_test, errors1, color='b',alpha=0.3)\n",
        "plt.ylabel('Differences between predicted and test value')\n",
        "plt.xlabel('Price')\n",
        "plt.axhline(0, color='red', linestyle='--')\n",
        "plt.show()"
      ],
      "id": "shV_apQbFwYy"
    },
    {
      "cell_type": "markdown",
      "source": [
        "# 3. Decision Tree Regresssor with the same model, optimal parameters, included categorical data applied as One Hot encoder and log scaler to minimize skewness and transformation of data"
      ],
      "metadata": {
        "id": "aGCMtW2JypzD"
      },
      "id": "aGCMtW2JypzD"
    },
    {
      "cell_type": "markdown",
      "metadata": {
        "id": "ALvWpcWaFwYz"
      },
      "source": [
        "Pipeline creation - repeated $X$, $y$ data declaration and splits base on same random state split to make sure that operation on right data is secured."
      ],
      "id": "ALvWpcWaFwYz"
    },
    {
      "cell_type": "code",
      "execution_count": null,
      "metadata": {
        "id": "2YFQ5ZxEFwYz"
      },
      "outputs": [],
      "source": [
        "features=num_features+cat_features\n",
        "data_set=cars_mod[features]\n",
        "X=data_set\n",
        "y=cars_mod[target]"
      ],
      "id": "2YFQ5ZxEFwYz"
    },
    {
      "cell_type": "code",
      "execution_count": null,
      "metadata": {
        "id": "ow12C2zWFwY0"
      },
      "outputs": [],
      "source": [
        "X_train, X_test, y_train, y_test = train_test_split(X, y, test_size=0.2, random_state=60222)"
      ],
      "id": "ow12C2zWFwY0"
    },
    {
      "cell_type": "code",
      "execution_count": null,
      "metadata": {
        "id": "V0v7OOBUFwY0"
      },
      "outputs": [],
      "source": [
        "numeric_transformer = Pipeline(steps=[\n",
        "    ('log_transformer', PowerTransformer()),\n",
        "    ('standardscaler', StandardScaler())\n",
        "])\n",
        "categorical_transformer = Pipeline(steps=[\n",
        "    ('OHE', OneHotEncoder(handle_unknown='ignore'))\n",
        "])\n",
        "preprocessor = ColumnTransformer(\n",
        "    transformers=[\n",
        "        ('num', numeric_transformer, num_features),\n",
        "        ('cat', categorical_transformer, cat_features)\n",
        "    ])\n",
        "\n",
        "final_pipeline = Pipeline(steps=[('preprocessor', preprocessor),\n",
        "                                 ('regressor', DecisionTreeRegressor())])"
      ],
      "id": "V0v7OOBUFwY0"
    },
    {
      "cell_type": "code",
      "execution_count": null,
      "metadata": {
        "id": "lInpqB1kFwY0",
        "colab": {
          "base_uri": "https://localhost:8080/"
        },
        "outputId": "94bdde4f-a206-4c4b-c63a-f659199b1643"
      },
      "outputs": [
        {
          "output_type": "stream",
          "name": "stdout",
          "text": [
            "Fitting 10 folds for each of 833 candidates, totalling 8330 fits\n",
            "\n",
            "Best hyperparameter: {'regressor__max_depth': 19.0, 'regressor__min_samples_split': 32}\n"
          ]
        }
      ],
      "source": [
        "params = {'regressor__max_depth': list(n_max_depth),\n",
        "          'regressor__min_samples_split':list(n_min_samples_split)}\n",
        "tree_gridsearch = GridSearchCV(final_pipeline, \n",
        "                                                params,\n",
        "                                                scoring='neg_mean_squared_error',\n",
        "                                                cv=10,\n",
        "                                                verbose=1,\n",
        "                                                n_jobs=-1)\n",
        "\n",
        "tree_gridsearch.fit(X_train, y_train)\n",
        "print('\\nBest hyperparameter:', tree_gridsearch.best_params_)\n",
        "final_model=tree_gridsearch.best_estimator_"
      ],
      "id": "lInpqB1kFwY0"
    },
    {
      "cell_type": "code",
      "execution_count": null,
      "metadata": {
        "id": "VevyA_DOFwY1",
        "colab": {
          "base_uri": "https://localhost:8080/"
        },
        "outputId": "95c0a526-16df-425b-d7ab-64450781f13c"
      },
      "outputs": [
        {
          "output_type": "stream",
          "name": "stdout",
          "text": [
            "RMSE: 10174.263182134331\n"
          ]
        }
      ],
      "source": [
        "new_predictions = final_model.predict(X_test)\n",
        "new_mse2 = mean_squared_error(y_test, new_predictions)\n",
        "print(f'RMSE: {np.sqrt(new_mse2)}')"
      ],
      "id": "VevyA_DOFwY1"
    },
    {
      "cell_type": "code",
      "execution_count": null,
      "metadata": {
        "id": "DpFXa6tXFwY1",
        "colab": {
          "base_uri": "https://localhost:8080/"
        },
        "outputId": "333b7181-0485-4b36-a3d0-a09b049dde55"
      },
      "outputs": [
        {
          "output_type": "execute_result",
          "data": {
            "text/plain": [
              "16986.91708791495"
            ]
          },
          "metadata": {},
          "execution_count": 82
        }
      ],
      "source": [
        "cars_mod['Price'].mean()"
      ],
      "id": "DpFXa6tXFwY1"
    },
    {
      "cell_type": "code",
      "execution_count": null,
      "metadata": {
        "id": "uTkT1wjwFwY1",
        "colab": {
          "base_uri": "https://localhost:8080/",
          "height": 282
        },
        "outputId": "81fab7a6-9277-4ecc-a958-3c3aff289e97"
      },
      "outputs": [
        {
          "output_type": "display_data",
          "data": {
            "image/png": "[encoded data removed]",
            "text/plain": [
              "<Figure size 432x288 with 1 Axes>"
            ]
          },
          "metadata": {
            "needs_background": "light"
          }
        }
      ],
      "source": [
        "errors1 = y_predict_test - y_test\n",
        "errors2 = y_pred_tree - y_test\n",
        "errors3 = new_predictions - y_test\n",
        "plt.scatter(y_test, errors2, color='k',alpha =0.3)\n",
        "\n",
        "plt.scatter(y_test, errors3, color='b',alpha=0.3)\n",
        "plt.ylabel('Difference between predicted and real value')\n",
        "plt.xlabel('Real, test value')\n",
        "plt.axhline(0, color='red', linestyle='--')\n",
        "plt.show()"
      ],
      "id": "uTkT1wjwFwY1"
    },
    {
      "cell_type": "code",
      "execution_count": null,
      "metadata": {
        "id": "4U49JZJCFwY1",
        "colab": {
          "base_uri": "https://localhost:8080/",
          "height": 336
        },
        "outputId": "5e82a428-368a-4d15-ab41-929747c2d134"
      },
      "outputs": [
        {
          "output_type": "display_data",
          "data": {
            "image/png": "[encoded data removed]",
            "text/plain": [
              "<Figure size 576x360 with 1 Axes>"
            ]
          },
          "metadata": {
            "needs_background": "light"
          }
        }
      ],
      "source": [
        "plt.figure(figsize=(8, 5))\n",
        "plt.hist(errors3, bins=15)\n",
        "plt.axvline(errors3.mean(), color='k', linestyle='dashed', linewidth=1)\n",
        "plt.title('Histogram of residuals for Decision Tree')\n",
        "\n",
        "plt.show()"
      ],
      "id": "4U49JZJCFwY1"
    },
    {
      "cell_type": "code",
      "execution_count": null,
      "metadata": {
        "id": "Woy4a7sLFwY2"
      },
      "outputs": [],
      "source": [
        "n=10\n",
        "x_ran=[]\n",
        "i=0\n",
        "while i<n:\n",
        "    x=random.randint(0, X_test.shape[0])\n",
        "    x_ran.append(x)\n",
        "    i=i+1"
      ],
      "id": "Woy4a7sLFwY2"
    },
    {
      "cell_type": "code",
      "execution_count": null,
      "metadata": {
        "id": "BvTdwrryFwY2",
        "colab": {
          "base_uri": "https://localhost:8080/"
        },
        "outputId": "f4b13c1d-3773-4ad0-a9f4-8941413dac80"
      },
      "outputs": [
        {
          "output_type": "execute_result",
          "data": {
            "text/plain": [
              "[3233, 399, 1028, 3728, 2629, 1499, 1703, 259, 707, 3701]"
            ]
          },
          "metadata": {},
          "execution_count": 87
        }
      ],
      "source": [
        "x_ran"
      ],
      "id": "BvTdwrryFwY2"
    },
    {
      "cell_type": "code",
      "execution_count": null,
      "metadata": {
        "id": "Z0Hl8XvvFwY2"
      },
      "outputs": [],
      "source": [
        "r_pred=[]\n",
        "r_test=[]\n",
        "r_err=[]\n",
        "for i in x_ran:\n",
        "    a=X_test.iloc[i,:]\n",
        "    new_pred=final_model.predict(X_test)[i]\n",
        "    r_pred.append(new_pred)\n",
        "    r_test.append(y_test.iloc[i])\n",
        "    r_err.append(y_test.iloc[i]-new_pred)"
      ],
      "id": "Z0Hl8XvvFwY2"
    },
    {
      "cell_type": "code",
      "execution_count": null,
      "metadata": {
        "id": "nQrR8X4SFwY7",
        "colab": {
          "base_uri": "https://localhost:8080/",
          "height": 295
        },
        "outputId": "e6886c37-231b-43d8-f6c2-f24a3924c253"
      },
      "outputs": [
        {
          "output_type": "display_data",
          "data": {
            "image/png": "[encoded data removed]",
            "text/plain": [
              "<Figure size 432x288 with 1 Axes>"
            ]
          },
          "metadata": {
            "needs_background": "light"
          }
        }
      ],
      "source": [
        "plt.errorbar(x_ran,r_pred, yerr=r_err,fmt='o', label='predicted')\n",
        "plt.scatter(x_ran,r_test, color='red', label='test values', alpha=0.7)\n",
        "plt.legend()\n",
        "plt.title('Comparison of predicted and test of 10 random values with error bars')\n",
        "plt.ylabel('Price $\\$$')\n",
        "plt.xlabel('No [-]')\n",
        "plt.show()\n"
      ],
      "id": "nQrR8X4SFwY7"
    },
    {
      "cell_type": "markdown",
      "metadata": {
        "id": "WQVL6F4DFwY8"
      },
      "source": [
        "Summary:\n",
        "1. Linear regression model was used as \"dummy model\" and base result for future comparison. Received value was:\n"
      ],
      "id": "WQVL6F4DFwY8"
    },
    {
      "cell_type": "code",
      "execution_count": null,
      "metadata": {
        "id": "LpHlmERrFwY8",
        "colab": {
          "base_uri": "https://localhost:8080/"
        },
        "outputId": "9fa8c99f-7363-4257-b74c-33e7ff872f96"
      },
      "outputs": [
        {
          "output_type": "stream",
          "name": "stdout",
          "text": [
            "RMSE for LinearRegression: 15945.24\n"
          ]
        }
      ],
      "source": [
        "print(f'RMSE for LinearRegression: {np.round(err,2)}')"
      ],
      "id": "LpHlmERrFwY8"
    },
    {
      "cell_type": "markdown",
      "metadata": {
        "id": "LYKxD83TFwY8"
      },
      "source": [
        "2. DecisionTreeRegressor allowed (standard scaler) with grid search of optimal received parameters allowed to decrease this value to:\n"
      ],
      "id": "LYKxD83TFwY8"
    },
    {
      "cell_type": "code",
      "execution_count": null,
      "metadata": {
        "id": "4a5xEuFvFwY8",
        "colab": {
          "base_uri": "https://localhost:8080/"
        },
        "outputId": "f9c31ae7-0842-417f-fefe-bfa8c67e8f94"
      },
      "outputs": [
        {
          "output_type": "stream",
          "name": "stdout",
          "text": [
            "RMSE for DecisionTreeRegressor:  10607.49\n"
          ]
        }
      ],
      "source": [
        "print(f'RMSE for DecisionTreeRegressor:  {np.round(err2,2)}')"
      ],
      "id": "4a5xEuFvFwY8"
    },
    {
      "cell_type": "markdown",
      "metadata": {
        "id": "Ot0pvVsiFwY9"
      },
      "source": [
        "3. Last approach with the same model, optimal parameters, included categorical data applied as One Hot encoder and log scaler to minimize skewness and transformation of data to make them close to a Gaussian distribution allowed \n",
        "reduce RMSE to:"
      ],
      "id": "Ot0pvVsiFwY9"
    },
    {
      "cell_type": "code",
      "source": [
        "print(f'Final RMSE for DecisionTreeRegressor: {np.round(np.sqrt(new_mse2))}')"
      ],
      "metadata": {
        "colab": {
          "base_uri": "https://localhost:8080/"
        },
        "id": "KBVyYfYmuwCi",
        "outputId": "22559a3c-32d2-4447-857e-c93834fab19e"
      },
      "id": "KBVyYfYmuwCi",
      "execution_count": null,
      "outputs": [
        {
          "output_type": "stream",
          "name": "stdout",
          "text": [
            "Final RMSE for DecisionTreeRegressor: 10174.0\n"
          ]
        }
      ]
    }
  ],
  "metadata": {
    "kernelspec": {
      "display_name": "Python 3",
      "language": "python",
      "name": "python3"
    },
    "language_info": {
      "codemirror_mode": {
        "name": "ipython",
        "version": 3
      },
      "file_extension": ".py",
      "mimetype": "text/x-python",
      "name": "python",
      "nbconvert_exporter": "python",
      "pygments_lexer": "ipython3",
      "version": "3.8.3"
    },
    "colab": {
      "provenance": [],
      "collapsed_sections": [],
      "include_colab_link": true
    },
    "accelerator": "GPU"
  },
  "nbformat": 4,
  "nbformat_minor": 5
}