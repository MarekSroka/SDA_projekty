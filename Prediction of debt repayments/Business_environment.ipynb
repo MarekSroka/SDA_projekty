{
  "cells": [
    {
      "cell_type": "markdown",
      "metadata": {
        "id": "view-in-github",
        "colab_type": "text"
      },
      "source": [
        "<a href=\"https://colab.research.google.com/github/MarekSroka/SDA_projekty/blob/main/Business_environment.ipynb\" target=\"_parent\"><img src=\"https://colab.research.google.com/assets/colab-badge.svg\" alt=\"Open In Colab\"/></a>"
      ]
    },
    {
      "cell_type": "markdown",
      "metadata": {
        "id": "2D9nRVRLQHKG"
      },
      "source": [
        "**BUSINESS ENVIRONMENT EXAMPLE**"
      ]
    },
    {
      "cell_type": "code",
      "source": [
        "from google.colab import drive\n",
        "drive.mount('/content/drive')"
      ],
      "metadata": {
        "colab": {
          "base_uri": "https://localhost:8080/"
        },
        "id": "IemojC4aTaYO",
        "outputId": "b042fe80-0f19-4f10-d0e7-e1b816d3595b"
      },
      "execution_count": null,
      "outputs": [
        {
          "output_type": "stream",
          "name": "stdout",
          "text": [
            "Mounted at /content/drive\n"
          ]
        }
      ]
    },
    {
      "cell_type": "markdown",
      "metadata": {
        "id": "ZX3vv69iS6Af"
      },
      "source": [
        "Selected model for operational use - Random Forest Classifier"
      ]
    },
    {
      "cell_type": "code",
      "execution_count": null,
      "metadata": {
        "id": "V8WKhF1vS6Ag"
      },
      "outputs": [],
      "source": [
        "import joblib\n",
        "import pandas as pd"
      ]
    },
    {
      "cell_type": "markdown",
      "metadata": {
        "id": "JTqDs4QLS6Ai"
      },
      "source": [
        "Load model"
      ]
    },
    {
      "cell_type": "code",
      "execution_count": null,
      "metadata": {
        "id": "GeFPq3O3QcYE"
      },
      "outputs": [],
      "source": [
        "rfc_model = joblib.load('drive/MyDrive/1.Projekt_koncowy/rfc_model_3.pkl')"
      ]
    },
    {
      "cell_type": "markdown",
      "source": [
        "There are 3 intuitively created cases in 3 different DataFrames"
      ],
      "metadata": {
        "id": "yJpOZtdaWr8d"
      }
    },
    {
      "cell_type": "code",
      "execution_count": null,
      "metadata": {
        "id": "G5o8i8udS6Aj"
      },
      "outputs": [],
      "source": [
        "case_01 = [['Kredyt gotówkowy', 'M', '1', 800000.0, 39.0, 245.0, 556.0, 347.0, 1.55,1.99, 0.45, \n",
        "           0.06, 0.22, 0.65, 0.7, 350.0]]"
      ]
    },
    {
      "cell_type": "code",
      "execution_count": null,
      "metadata": {
        "id": "UD462hSLS6Ak"
      },
      "outputs": [],
      "source": [
        "case_02 = [['Pożyczka gotówkowa', 'K', '0', 5000.0, 17.0, 951.0, 3200.0, 3000.0, 1690.0, 1.0, 0.09, \n",
        "           0.00, 0.00, 0.9, 0.0, 5.0]]"
      ]
    },
    {
      "cell_type": "code",
      "execution_count": null,
      "metadata": {
        "id": "jXScMPalS6Al"
      },
      "outputs": [],
      "source": [
        "case_03 = [['Produkty odnawialne', 'M', '1', 500000.0, \n",
        "           66.0, 60.0, 100.0, 26.0, 20.0, 0.05, \n",
        "           0.98, 0.36, 0.22, 0.2, 0.0, 90.0] ]"
      ]
    },
    {
      "cell_type": "code",
      "execution_count": null,
      "metadata": {
        "colab": {
          "base_uri": "https://localhost:8080/"
        },
        "id": "Rc1iCLKaS6Am",
        "outputId": "9dd264d8-837d-4bc4-e3fe-e3da4d9dc387"
      },
      "outputs": [
        {
          "output_type": "execute_result",
          "data": {
            "text/plain": [
              "['kategoria_produktu',\n",
              " 'plec',\n",
              " 'czy_wind_zewn',\n",
              " 'populacja',\n",
              " 'wiek',\n",
              " 'dpd',\n",
              " 'liczba_dni_od_daty_umowy',\n",
              " 'liczba_dni_od_wypowiedzenia',\n",
              " 'ratio_credit_to_debt',\n",
              " 'ratio_capital_to_debt',\n",
              " 'ratio_sop_to_debt',\n",
              " 'ratio_sop12m_to_debt',\n",
              " 'share_12m_in_total',\n",
              " 'time_debt_exist',\n",
              " 'time_after_term',\n",
              " 'time_on_book']"
            ]
          },
          "metadata": {},
          "execution_count": 11
        }
      ],
      "source": [
        "columns = ['kategoria_produktu', 'plec', 'czy_wind_zewn', 'populacja', 'wiek', 'dpd','liczba_dni_od_daty_umowy',\n",
        "'liczba_dni_od_wypowiedzenia','ratio_credit_to_debt','ratio_capital_to_debt','ratio_sop_to_debt','ratio_sop12m_to_debt',\n",
        "'share_12m_in_total','time_debt_exist','time_after_term','time_on_book']\n",
        "columns"
      ]
    },
    {
      "cell_type": "code",
      "execution_count": null,
      "metadata": {
        "colab": {
          "base_uri": "https://localhost:8080/",
          "height": 145
        },
        "id": "8fEflvW5S6An",
        "outputId": "f37e96b7-5f6c-4827-ac59-25b48f66d520"
      },
      "outputs": [
        {
          "output_type": "execute_result",
          "data": {
            "text/plain": [
              "  kategoria_produktu plec czy_wind_zewn  populacja  wiek    dpd  \\\n",
              "0   Kredyt gotówkowy    M             1   800000.0  39.0  245.0   \n",
              "\n",
              "   liczba_dni_od_daty_umowy  liczba_dni_od_wypowiedzenia  \\\n",
              "0                     556.0                        347.0   \n",
              "\n",
              "   ratio_credit_to_debt  ratio_capital_to_debt  ratio_sop_to_debt  \\\n",
              "0                  1.55                   1.99               0.45   \n",
              "\n",
              "   ratio_sop12m_to_debt  share_12m_in_total  time_debt_exist  time_after_term  \\\n",
              "0                  0.06                0.22             0.65              0.7   \n",
              "\n",
              "   time_on_book  \n",
              "0         350.0  "
            ],
            "text/html": [
              "\n",
              "  <div id=\"df-a87fd99c-a4d8-4f4a-8220-7e9785326162\">\n",
              "    <div class=\"colab-df-container\">\n",
              "      <div>\n",
              "<style scoped>\n",
              "    .dataframe tbody tr th:only-of-type {\n",
              "        vertical-align: middle;\n",
              "    }\n",
              "\n",
              "    .dataframe tbody tr th {\n",
              "        vertical-align: top;\n",
              "    }\n",
              "\n",
              "    .dataframe thead th {\n",
              "        text-align: right;\n",
              "    }\n",
              "</style>\n",
              "<table border=\"1\" class=\"dataframe\">\n",
              "  <thead>\n",
              "    <tr style=\"text-align: right;\">\n",
              "      <th></th>\n",
              "      <th>kategoria_produktu</th>\n",
              "      <th>plec</th>\n",
              "      <th>czy_wind_zewn</th>\n",
              "      <th>populacja</th>\n",
              "      <th>wiek</th>\n",
              "      <th>dpd</th>\n",
              "      <th>liczba_dni_od_daty_umowy</th>\n",
              "      <th>liczba_dni_od_wypowiedzenia</th>\n",
              "      <th>ratio_credit_to_debt</th>\n",
              "      <th>ratio_capital_to_debt</th>\n",
              "      <th>ratio_sop_to_debt</th>\n",
              "      <th>ratio_sop12m_to_debt</th>\n",
              "      <th>share_12m_in_total</th>\n",
              "      <th>time_debt_exist</th>\n",
              "      <th>time_after_term</th>\n",
              "      <th>time_on_book</th>\n",
              "    </tr>\n",
              "  </thead>\n",
              "  <tbody>\n",
              "    <tr>\n",
              "      <th>0</th>\n",
              "      <td>Kredyt gotówkowy</td>\n",
              "      <td>M</td>\n",
              "      <td>1</td>\n",
              "      <td>800000.0</td>\n",
              "      <td>39.0</td>\n",
              "      <td>245.0</td>\n",
              "      <td>556.0</td>\n",
              "      <td>347.0</td>\n",
              "      <td>1.55</td>\n",
              "      <td>1.99</td>\n",
              "      <td>0.45</td>\n",
              "      <td>0.06</td>\n",
              "      <td>0.22</td>\n",
              "      <td>0.65</td>\n",
              "      <td>0.7</td>\n",
              "      <td>350.0</td>\n",
              "    </tr>\n",
              "  </tbody>\n",
              "</table>\n",
              "</div>\n",
              "      <button class=\"colab-df-convert\" onclick=\"convertToInteractive('df-a87fd99c-a4d8-4f4a-8220-7e9785326162')\"\n",
              "              title=\"Convert this dataframe to an interactive table.\"\n",
              "              style=\"display:none;\">\n",
              "        \n",
              "  <svg xmlns=\"http://www.w3.org/2000/svg\" height=\"24px\"viewBox=\"0 0 24 24\"\n",
              "       width=\"24px\">\n",
              "    <path d=\"M0 0h24v24H0V0z\" fill=\"none\"/>\n",
              "    <path d=\"M18.56 5.44l.94 2.06.94-2.06 2.06-.94-2.06-.94-.94-2.06-.94 2.06-2.06.94zm-11 1L8.5 8.5l.94-2.06 2.06-.94-2.06-.94L8.5 2.5l-.94 2.06-2.06.94zm10 10l.94 2.06.94-2.06 2.06-.94-2.06-.94-.94-2.06-.94 2.06-2.06.94z\"/><path d=\"M17.41 7.96l-1.37-1.37c-.4-.4-.92-.59-1.43-.59-.52 0-1.04.2-1.43.59L10.3 9.45l-7.72 7.72c-.78.78-.78 2.05 0 2.83L4 21.41c.39.39.9.59 1.41.59.51 0 1.02-.2 1.41-.59l7.78-7.78 2.81-2.81c.8-.78.8-2.07 0-2.86zM5.41 20L4 18.59l7.72-7.72 1.47 1.35L5.41 20z\"/>\n",
              "  </svg>\n",
              "      </button>\n",
              "      \n",
              "  <style>\n",
              "    .colab-df-container {\n",
              "      display:flex;\n",
              "      flex-wrap:wrap;\n",
              "      gap: 12px;\n",
              "    }\n",
              "\n",
              "    .colab-df-convert {\n",
              "      background-color: #E8F0FE;\n",
              "      border: none;\n",
              "      border-radius: 50%;\n",
              "      cursor: pointer;\n",
              "      display: none;\n",
              "      fill: #1967D2;\n",
              "      height: 32px;\n",
              "      padding: 0 0 0 0;\n",
              "      width: 32px;\n",
              "    }\n",
              "\n",
              "    .colab-df-convert:hover {\n",
              "      background-color: #E2EBFA;\n",
              "      box-shadow: 0px 1px 2px rgba(60, 64, 67, 0.3), 0px 1px 3px 1px rgba(60, 64, 67, 0.15);\n",
              "      fill: #174EA6;\n",
              "    }\n",
              "\n",
              "    [theme=dark] .colab-df-convert {\n",
              "      background-color: #3B4455;\n",
              "      fill: #D2E3FC;\n",
              "    }\n",
              "\n",
              "    [theme=dark] .colab-df-convert:hover {\n",
              "      background-color: #434B5C;\n",
              "      box-shadow: 0px 1px 3px 1px rgba(0, 0, 0, 0.15);\n",
              "      filter: drop-shadow(0px 1px 2px rgba(0, 0, 0, 0.3));\n",
              "      fill: #FFFFFF;\n",
              "    }\n",
              "  </style>\n",
              "\n",
              "      <script>\n",
              "        const buttonEl =\n",
              "          document.querySelector('#df-a87fd99c-a4d8-4f4a-8220-7e9785326162 button.colab-df-convert');\n",
              "        buttonEl.style.display =\n",
              "          google.colab.kernel.accessAllowed ? 'block' : 'none';\n",
              "\n",
              "        async function convertToInteractive(key) {\n",
              "          const element = document.querySelector('#df-a87fd99c-a4d8-4f4a-8220-7e9785326162');\n",
              "          const dataTable =\n",
              "            await google.colab.kernel.invokeFunction('convertToInteractive',\n",
              "                                                     [key], {});\n",
              "          if (!dataTable) return;\n",
              "\n",
              "          const docLinkHtml = 'Like what you see? Visit the ' +\n",
              "            '<a target=\"_blank\" href=https://colab.research.google.com/notebooks/data_table.ipynb>data table notebook</a>'\n",
              "            + ' to learn more about interactive tables.';\n",
              "          element.innerHTML = '';\n",
              "          dataTable['output_type'] = 'display_data';\n",
              "          await google.colab.output.renderOutput(dataTable, element);\n",
              "          const docLink = document.createElement('div');\n",
              "          docLink.innerHTML = docLinkHtml;\n",
              "          element.appendChild(docLink);\n",
              "        }\n",
              "      </script>\n",
              "    </div>\n",
              "  </div>\n",
              "  "
            ]
          },
          "metadata": {},
          "execution_count": 12
        }
      ],
      "source": [
        "case_01_df = pd.DataFrame(case_01, columns=columns)\n",
        "case_01_df"
      ]
    },
    {
      "cell_type": "code",
      "execution_count": null,
      "metadata": {
        "colab": {
          "base_uri": "https://localhost:8080/",
          "height": 145
        },
        "id": "JhCP852aS6An",
        "outputId": "8a1cc9fb-ea6d-47db-8539-ebce79d5f26c"
      },
      "outputs": [
        {
          "output_type": "execute_result",
          "data": {
            "text/plain": [
              "   kategoria_produktu plec czy_wind_zewn  populacja  wiek    dpd  \\\n",
              "0  Pożyczka gotówkowa    K             0     5000.0  17.0  951.0   \n",
              "\n",
              "   liczba_dni_od_daty_umowy  liczba_dni_od_wypowiedzenia  \\\n",
              "0                    3200.0                       3000.0   \n",
              "\n",
              "   ratio_credit_to_debt  ratio_capital_to_debt  ratio_sop_to_debt  \\\n",
              "0                1690.0                    1.0               0.09   \n",
              "\n",
              "   ratio_sop12m_to_debt  share_12m_in_total  time_debt_exist  time_after_term  \\\n",
              "0                   0.0                 0.0              0.9              0.0   \n",
              "\n",
              "   time_on_book  \n",
              "0           5.0  "
            ],
            "text/html": [
              "\n",
              "  <div id=\"df-11400c95-1812-4021-8d12-68db1fd00b0a\">\n",
              "    <div class=\"colab-df-container\">\n",
              "      <div>\n",
              "<style scoped>\n",
              "    .dataframe tbody tr th:only-of-type {\n",
              "        vertical-align: middle;\n",
              "    }\n",
              "\n",
              "    .dataframe tbody tr th {\n",
              "        vertical-align: top;\n",
              "    }\n",
              "\n",
              "    .dataframe thead th {\n",
              "        text-align: right;\n",
              "    }\n",
              "</style>\n",
              "<table border=\"1\" class=\"dataframe\">\n",
              "  <thead>\n",
              "    <tr style=\"text-align: right;\">\n",
              "      <th></th>\n",
              "      <th>kategoria_produktu</th>\n",
              "      <th>plec</th>\n",
              "      <th>czy_wind_zewn</th>\n",
              "      <th>populacja</th>\n",
              "      <th>wiek</th>\n",
              "      <th>dpd</th>\n",
              "      <th>liczba_dni_od_daty_umowy</th>\n",
              "      <th>liczba_dni_od_wypowiedzenia</th>\n",
              "      <th>ratio_credit_to_debt</th>\n",
              "      <th>ratio_capital_to_debt</th>\n",
              "      <th>ratio_sop_to_debt</th>\n",
              "      <th>ratio_sop12m_to_debt</th>\n",
              "      <th>share_12m_in_total</th>\n",
              "      <th>time_debt_exist</th>\n",
              "      <th>time_after_term</th>\n",
              "      <th>time_on_book</th>\n",
              "    </tr>\n",
              "  </thead>\n",
              "  <tbody>\n",
              "    <tr>\n",
              "      <th>0</th>\n",
              "      <td>Pożyczka gotówkowa</td>\n",
              "      <td>K</td>\n",
              "      <td>0</td>\n",
              "      <td>5000.0</td>\n",
              "      <td>17.0</td>\n",
              "      <td>951.0</td>\n",
              "      <td>3200.0</td>\n",
              "      <td>3000.0</td>\n",
              "      <td>1690.0</td>\n",
              "      <td>1.0</td>\n",
              "      <td>0.09</td>\n",
              "      <td>0.0</td>\n",
              "      <td>0.0</td>\n",
              "      <td>0.9</td>\n",
              "      <td>0.0</td>\n",
              "      <td>5.0</td>\n",
              "    </tr>\n",
              "  </tbody>\n",
              "</table>\n",
              "</div>\n",
              "      <button class=\"colab-df-convert\" onclick=\"convertToInteractive('df-11400c95-1812-4021-8d12-68db1fd00b0a')\"\n",
              "              title=\"Convert this dataframe to an interactive table.\"\n",
              "              style=\"display:none;\">\n",
              "        \n",
              "  <svg xmlns=\"http://www.w3.org/2000/svg\" height=\"24px\"viewBox=\"0 0 24 24\"\n",
              "       width=\"24px\">\n",
              "    <path d=\"M0 0h24v24H0V0z\" fill=\"none\"/>\n",
              "    <path d=\"M18.56 5.44l.94 2.06.94-2.06 2.06-.94-2.06-.94-.94-2.06-.94 2.06-2.06.94zm-11 1L8.5 8.5l.94-2.06 2.06-.94-2.06-.94L8.5 2.5l-.94 2.06-2.06.94zm10 10l.94 2.06.94-2.06 2.06-.94-2.06-.94-.94-2.06-.94 2.06-2.06.94z\"/><path d=\"M17.41 7.96l-1.37-1.37c-.4-.4-.92-.59-1.43-.59-.52 0-1.04.2-1.43.59L10.3 9.45l-7.72 7.72c-.78.78-.78 2.05 0 2.83L4 21.41c.39.39.9.59 1.41.59.51 0 1.02-.2 1.41-.59l7.78-7.78 2.81-2.81c.8-.78.8-2.07 0-2.86zM5.41 20L4 18.59l7.72-7.72 1.47 1.35L5.41 20z\"/>\n",
              "  </svg>\n",
              "      </button>\n",
              "      \n",
              "  <style>\n",
              "    .colab-df-container {\n",
              "      display:flex;\n",
              "      flex-wrap:wrap;\n",
              "      gap: 12px;\n",
              "    }\n",
              "\n",
              "    .colab-df-convert {\n",
              "      background-color: #E8F0FE;\n",
              "      border: none;\n",
              "      border-radius: 50%;\n",
              "      cursor: pointer;\n",
              "      display: none;\n",
              "      fill: #1967D2;\n",
              "      height: 32px;\n",
              "      padding: 0 0 0 0;\n",
              "      width: 32px;\n",
              "    }\n",
              "\n",
              "    .colab-df-convert:hover {\n",
              "      background-color: #E2EBFA;\n",
              "      box-shadow: 0px 1px 2px rgba(60, 64, 67, 0.3), 0px 1px 3px 1px rgba(60, 64, 67, 0.15);\n",
              "      fill: #174EA6;\n",
              "    }\n",
              "\n",
              "    [theme=dark] .colab-df-convert {\n",
              "      background-color: #3B4455;\n",
              "      fill: #D2E3FC;\n",
              "    }\n",
              "\n",
              "    [theme=dark] .colab-df-convert:hover {\n",
              "      background-color: #434B5C;\n",
              "      box-shadow: 0px 1px 3px 1px rgba(0, 0, 0, 0.15);\n",
              "      filter: drop-shadow(0px 1px 2px rgba(0, 0, 0, 0.3));\n",
              "      fill: #FFFFFF;\n",
              "    }\n",
              "  </style>\n",
              "\n",
              "      <script>\n",
              "        const buttonEl =\n",
              "          document.querySelector('#df-11400c95-1812-4021-8d12-68db1fd00b0a button.colab-df-convert');\n",
              "        buttonEl.style.display =\n",
              "          google.colab.kernel.accessAllowed ? 'block' : 'none';\n",
              "\n",
              "        async function convertToInteractive(key) {\n",
              "          const element = document.querySelector('#df-11400c95-1812-4021-8d12-68db1fd00b0a');\n",
              "          const dataTable =\n",
              "            await google.colab.kernel.invokeFunction('convertToInteractive',\n",
              "                                                     [key], {});\n",
              "          if (!dataTable) return;\n",
              "\n",
              "          const docLinkHtml = 'Like what you see? Visit the ' +\n",
              "            '<a target=\"_blank\" href=https://colab.research.google.com/notebooks/data_table.ipynb>data table notebook</a>'\n",
              "            + ' to learn more about interactive tables.';\n",
              "          element.innerHTML = '';\n",
              "          dataTable['output_type'] = 'display_data';\n",
              "          await google.colab.output.renderOutput(dataTable, element);\n",
              "          const docLink = document.createElement('div');\n",
              "          docLink.innerHTML = docLinkHtml;\n",
              "          element.appendChild(docLink);\n",
              "        }\n",
              "      </script>\n",
              "    </div>\n",
              "  </div>\n",
              "  "
            ]
          },
          "metadata": {},
          "execution_count": 35
        }
      ],
      "source": [
        "case_02_df = pd.DataFrame(case_02, columns=columns)\n",
        "case_02_df"
      ]
    },
    {
      "cell_type": "code",
      "execution_count": null,
      "metadata": {
        "colab": {
          "base_uri": "https://localhost:8080/",
          "height": 145
        },
        "id": "s6_6dej_S6Ao",
        "outputId": "9466a50a-712b-4b9f-b585-fa39ab87867f"
      },
      "outputs": [
        {
          "output_type": "execute_result",
          "data": {
            "text/plain": [
              "    kategoria_produktu plec czy_wind_zewn  populacja  wiek   dpd  \\\n",
              "0  Produkty odnawialne    M             1   500000.0  66.0  60.0   \n",
              "\n",
              "   liczba_dni_od_daty_umowy  liczba_dni_od_wypowiedzenia  \\\n",
              "0                     100.0                         26.0   \n",
              "\n",
              "   ratio_credit_to_debt  ratio_capital_to_debt  ratio_sop_to_debt  \\\n",
              "0                  20.0                   0.05               0.98   \n",
              "\n",
              "   ratio_sop12m_to_debt  share_12m_in_total  time_debt_exist  time_after_term  \\\n",
              "0                  0.36                0.22              0.2              0.0   \n",
              "\n",
              "   time_on_book  \n",
              "0          90.0  "
            ],
            "text/html": [
              "\n",
              "  <div id=\"df-43d94771-4121-4068-ba65-b44ea4d2dcf0\">\n",
              "    <div class=\"colab-df-container\">\n",
              "      <div>\n",
              "<style scoped>\n",
              "    .dataframe tbody tr th:only-of-type {\n",
              "        vertical-align: middle;\n",
              "    }\n",
              "\n",
              "    .dataframe tbody tr th {\n",
              "        vertical-align: top;\n",
              "    }\n",
              "\n",
              "    .dataframe thead th {\n",
              "        text-align: right;\n",
              "    }\n",
              "</style>\n",
              "<table border=\"1\" class=\"dataframe\">\n",
              "  <thead>\n",
              "    <tr style=\"text-align: right;\">\n",
              "      <th></th>\n",
              "      <th>kategoria_produktu</th>\n",
              "      <th>plec</th>\n",
              "      <th>czy_wind_zewn</th>\n",
              "      <th>populacja</th>\n",
              "      <th>wiek</th>\n",
              "      <th>dpd</th>\n",
              "      <th>liczba_dni_od_daty_umowy</th>\n",
              "      <th>liczba_dni_od_wypowiedzenia</th>\n",
              "      <th>ratio_credit_to_debt</th>\n",
              "      <th>ratio_capital_to_debt</th>\n",
              "      <th>ratio_sop_to_debt</th>\n",
              "      <th>ratio_sop12m_to_debt</th>\n",
              "      <th>share_12m_in_total</th>\n",
              "      <th>time_debt_exist</th>\n",
              "      <th>time_after_term</th>\n",
              "      <th>time_on_book</th>\n",
              "    </tr>\n",
              "  </thead>\n",
              "  <tbody>\n",
              "    <tr>\n",
              "      <th>0</th>\n",
              "      <td>Produkty odnawialne</td>\n",
              "      <td>M</td>\n",
              "      <td>1</td>\n",
              "      <td>500000.0</td>\n",
              "      <td>66.0</td>\n",
              "      <td>60.0</td>\n",
              "      <td>100.0</td>\n",
              "      <td>26.0</td>\n",
              "      <td>20.0</td>\n",
              "      <td>0.05</td>\n",
              "      <td>0.98</td>\n",
              "      <td>0.36</td>\n",
              "      <td>0.22</td>\n",
              "      <td>0.2</td>\n",
              "      <td>0.0</td>\n",
              "      <td>90.0</td>\n",
              "    </tr>\n",
              "  </tbody>\n",
              "</table>\n",
              "</div>\n",
              "      <button class=\"colab-df-convert\" onclick=\"convertToInteractive('df-43d94771-4121-4068-ba65-b44ea4d2dcf0')\"\n",
              "              title=\"Convert this dataframe to an interactive table.\"\n",
              "              style=\"display:none;\">\n",
              "        \n",
              "  <svg xmlns=\"http://www.w3.org/2000/svg\" height=\"24px\"viewBox=\"0 0 24 24\"\n",
              "       width=\"24px\">\n",
              "    <path d=\"M0 0h24v24H0V0z\" fill=\"none\"/>\n",
              "    <path d=\"M18.56 5.44l.94 2.06.94-2.06 2.06-.94-2.06-.94-.94-2.06-.94 2.06-2.06.94zm-11 1L8.5 8.5l.94-2.06 2.06-.94-2.06-.94L8.5 2.5l-.94 2.06-2.06.94zm10 10l.94 2.06.94-2.06 2.06-.94-2.06-.94-.94-2.06-.94 2.06-2.06.94z\"/><path d=\"M17.41 7.96l-1.37-1.37c-.4-.4-.92-.59-1.43-.59-.52 0-1.04.2-1.43.59L10.3 9.45l-7.72 7.72c-.78.78-.78 2.05 0 2.83L4 21.41c.39.39.9.59 1.41.59.51 0 1.02-.2 1.41-.59l7.78-7.78 2.81-2.81c.8-.78.8-2.07 0-2.86zM5.41 20L4 18.59l7.72-7.72 1.47 1.35L5.41 20z\"/>\n",
              "  </svg>\n",
              "      </button>\n",
              "      \n",
              "  <style>\n",
              "    .colab-df-container {\n",
              "      display:flex;\n",
              "      flex-wrap:wrap;\n",
              "      gap: 12px;\n",
              "    }\n",
              "\n",
              "    .colab-df-convert {\n",
              "      background-color: #E8F0FE;\n",
              "      border: none;\n",
              "      border-radius: 50%;\n",
              "      cursor: pointer;\n",
              "      display: none;\n",
              "      fill: #1967D2;\n",
              "      height: 32px;\n",
              "      padding: 0 0 0 0;\n",
              "      width: 32px;\n",
              "    }\n",
              "\n",
              "    .colab-df-convert:hover {\n",
              "      background-color: #E2EBFA;\n",
              "      box-shadow: 0px 1px 2px rgba(60, 64, 67, 0.3), 0px 1px 3px 1px rgba(60, 64, 67, 0.15);\n",
              "      fill: #174EA6;\n",
              "    }\n",
              "\n",
              "    [theme=dark] .colab-df-convert {\n",
              "      background-color: #3B4455;\n",
              "      fill: #D2E3FC;\n",
              "    }\n",
              "\n",
              "    [theme=dark] .colab-df-convert:hover {\n",
              "      background-color: #434B5C;\n",
              "      box-shadow: 0px 1px 3px 1px rgba(0, 0, 0, 0.15);\n",
              "      filter: drop-shadow(0px 1px 2px rgba(0, 0, 0, 0.3));\n",
              "      fill: #FFFFFF;\n",
              "    }\n",
              "  </style>\n",
              "\n",
              "      <script>\n",
              "        const buttonEl =\n",
              "          document.querySelector('#df-43d94771-4121-4068-ba65-b44ea4d2dcf0 button.colab-df-convert');\n",
              "        buttonEl.style.display =\n",
              "          google.colab.kernel.accessAllowed ? 'block' : 'none';\n",
              "\n",
              "        async function convertToInteractive(key) {\n",
              "          const element = document.querySelector('#df-43d94771-4121-4068-ba65-b44ea4d2dcf0');\n",
              "          const dataTable =\n",
              "            await google.colab.kernel.invokeFunction('convertToInteractive',\n",
              "                                                     [key], {});\n",
              "          if (!dataTable) return;\n",
              "\n",
              "          const docLinkHtml = 'Like what you see? Visit the ' +\n",
              "            '<a target=\"_blank\" href=https://colab.research.google.com/notebooks/data_table.ipynb>data table notebook</a>'\n",
              "            + ' to learn more about interactive tables.';\n",
              "          element.innerHTML = '';\n",
              "          dataTable['output_type'] = 'display_data';\n",
              "          await google.colab.output.renderOutput(dataTable, element);\n",
              "          const docLink = document.createElement('div');\n",
              "          docLink.innerHTML = docLinkHtml;\n",
              "          element.appendChild(docLink);\n",
              "        }\n",
              "      </script>\n",
              "    </div>\n",
              "  </div>\n",
              "  "
            ]
          },
          "metadata": {},
          "execution_count": 21
        }
      ],
      "source": [
        "case_03_df = pd.DataFrame(case_03, columns=columns)\n",
        "case_03_df"
      ]
    },
    {
      "cell_type": "code",
      "execution_count": null,
      "metadata": {
        "colab": {
          "base_uri": "https://localhost:8080/"
        },
        "id": "7VuSEXweS6Ao",
        "outputId": "172120bc-1fe6-4696-e042-d1e334c9d6e0"
      },
      "outputs": [
        {
          "output_type": "stream",
          "name": "stdout",
          "text": [
            "[1]\n",
            "[0]\n",
            "[1]\n"
          ]
        }
      ],
      "source": [
        "print(rfc_model.predict(case_01_df))\n",
        "print(rfc_model.predict(case_02_df))\n",
        "print(rfc_model.predict(case_03_df))"
      ]
    },
    {
      "cell_type": "markdown",
      "source": [
        "Chosen model making prediction on inupt data - case_01 and case_03 are 'paying', case_02 - 'not paying'."
      ],
      "metadata": {
        "id": "1zBvRcy8X-_L"
      }
    }
  ],
  "metadata": {
    "colab": {
      "provenance": [],
      "collapsed_sections": [],
      "include_colab_link": true
    },
    "kernelspec": {
      "display_name": "Python 3",
      "language": "python",
      "name": "python3"
    },
    "language_info": {
      "codemirror_mode": {
        "name": "ipython",
        "version": 3
      },
      "file_extension": ".py",
      "mimetype": "text/x-python",
      "name": "python",
      "nbconvert_exporter": "python",
      "pygments_lexer": "ipython3",
      "version": "3.7.6"
    }
  },
  "nbformat": 4,
  "nbformat_minor": 0
}
